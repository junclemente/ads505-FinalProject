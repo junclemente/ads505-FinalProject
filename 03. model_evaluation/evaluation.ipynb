{
 "cells": [
  {
   "cell_type": "markdown",
   "metadata": {},
   "source": [
    "# Model Evaluation"
   ]
  },
  {
   "cell_type": "code",
   "execution_count": 66,
   "metadata": {},
   "outputs": [],
   "source": [
    "import pandas as pd\n",
    "import numpy as np\n",
    "import matplotlib.pyplot as plt\n",
    "import seaborn as sns\n",
    "\n",
    "# import scikitplot as skplt\n",
    "\n",
    "import httpimport\n",
    "import joblib\n",
    "\n",
    "from pathlib import Path\n",
    "from dmba import gainsChart\n",
    "\n",
    "from scikitplot.metrics import plot_cumulative_gain\n",
    "from sklearn.metrics import confusion_matrix, accuracy_score, roc_curve, auc\n",
    "from sklearn.model_selection import train_test_split, cross_val_score\n",
    "from sklearn.preprocessing import StandardScaler\n",
    "\n",
    "%matplotlib inline"
   ]
  },
  {
   "cell_type": "code",
   "execution_count": 49,
   "metadata": {},
   "outputs": [],
   "source": [
    "# Import personal library\n",
    "with httpimport.github_repo(\"junclemente\", \"jcds\", ref=\"master\"):\n",
    "    import jcds.metrics as jm\n",
    "    import jcds.charts as jc"
   ]
  },
  {
   "cell_type": "code",
   "execution_count": 50,
   "metadata": {},
   "outputs": [
    {
     "data": {
      "text/html": [
       "<div>\n",
       "<style scoped>\n",
       "    .dataframe tbody tr th:only-of-type {\n",
       "        vertical-align: middle;\n",
       "    }\n",
       "\n",
       "    .dataframe tbody tr th {\n",
       "        vertical-align: top;\n",
       "    }\n",
       "\n",
       "    .dataframe thead th {\n",
       "        text-align: right;\n",
       "    }\n",
       "</style>\n",
       "<table border=\"1\" class=\"dataframe\">\n",
       "  <thead>\n",
       "    <tr style=\"text-align: right;\">\n",
       "      <th></th>\n",
       "      <th>Undergrad_Degree</th>\n",
       "      <th>Work_Experience</th>\n",
       "      <th>Employability_Before</th>\n",
       "      <th>Status</th>\n",
       "      <th>Status_enc</th>\n",
       "    </tr>\n",
       "  </thead>\n",
       "  <tbody>\n",
       "    <tr>\n",
       "      <th>0</th>\n",
       "      <td>Business</td>\n",
       "      <td>No</td>\n",
       "      <td>252.0</td>\n",
       "      <td>Placed</td>\n",
       "      <td>1</td>\n",
       "    </tr>\n",
       "    <tr>\n",
       "      <th>1</th>\n",
       "      <td>Business</td>\n",
       "      <td>No</td>\n",
       "      <td>423.0</td>\n",
       "      <td>Not Placed</td>\n",
       "      <td>0</td>\n",
       "    </tr>\n",
       "    <tr>\n",
       "      <th>2</th>\n",
       "      <td>Computer Science</td>\n",
       "      <td>Yes</td>\n",
       "      <td>101.0</td>\n",
       "      <td>Placed</td>\n",
       "      <td>1</td>\n",
       "    </tr>\n",
       "    <tr>\n",
       "      <th>3</th>\n",
       "      <td>Engineering</td>\n",
       "      <td>No</td>\n",
       "      <td>288.0</td>\n",
       "      <td>Not Placed</td>\n",
       "      <td>0</td>\n",
       "    </tr>\n",
       "    <tr>\n",
       "      <th>4</th>\n",
       "      <td>Finance</td>\n",
       "      <td>No</td>\n",
       "      <td>248.0</td>\n",
       "      <td>Not Placed</td>\n",
       "      <td>0</td>\n",
       "    </tr>\n",
       "  </tbody>\n",
       "</table>\n",
       "</div>"
      ],
      "text/plain": [
       "   Undergrad_Degree Work_Experience  Employability_Before      Status  \\\n",
       "0          Business              No                 252.0      Placed   \n",
       "1          Business              No                 423.0  Not Placed   \n",
       "2  Computer Science             Yes                 101.0      Placed   \n",
       "3       Engineering              No                 288.0  Not Placed   \n",
       "4           Finance              No                 248.0  Not Placed   \n",
       "\n",
       "   Status_enc  \n",
       "0           1  \n",
       "1           0  \n",
       "2           1  \n",
       "3           0  \n",
       "4           0  "
      ]
     },
     "metadata": {},
     "output_type": "display_data"
    }
   ],
   "source": [
    "# Import datasets\n",
    "datasets = Path(\"../datasets\")\n",
    "df = pd.read_csv(datasets / \"school_final_dataset.csv\")\n",
    "display(df.head())"
   ]
  },
  {
   "cell_type": "markdown",
   "metadata": {},
   "source": [
    "## Setup Testing and Validation Dataframes"
   ]
  },
  {
   "cell_type": "code",
   "execution_count": 51,
   "metadata": {},
   "outputs": [],
   "source": [
    "# Variables to use for predictive modeling\n",
    "variables = [\"Undergrad_Degree\", \"Work_Experience\", \"Employability_Before\"]\n",
    "target = \"Status_enc\""
   ]
  },
  {
   "cell_type": "code",
   "execution_count": 52,
   "metadata": {},
   "outputs": [
    {
     "data": {
      "text/html": [
       "<div>\n",
       "<style scoped>\n",
       "    .dataframe tbody tr th:only-of-type {\n",
       "        vertical-align: middle;\n",
       "    }\n",
       "\n",
       "    .dataframe tbody tr th {\n",
       "        vertical-align: top;\n",
       "    }\n",
       "\n",
       "    .dataframe thead th {\n",
       "        text-align: right;\n",
       "    }\n",
       "</style>\n",
       "<table border=\"1\" class=\"dataframe\">\n",
       "  <thead>\n",
       "    <tr style=\"text-align: right;\">\n",
       "      <th></th>\n",
       "      <th>Employability_Before</th>\n",
       "      <th>Undergrad_Degree_Business</th>\n",
       "      <th>Undergrad_Degree_Computer Science</th>\n",
       "      <th>Undergrad_Degree_Engineering</th>\n",
       "      <th>Undergrad_Degree_Finance</th>\n",
       "      <th>Work_Experience_Yes</th>\n",
       "    </tr>\n",
       "  </thead>\n",
       "  <tbody>\n",
       "    <tr>\n",
       "      <th>0</th>\n",
       "      <td>252.0</td>\n",
       "      <td>True</td>\n",
       "      <td>False</td>\n",
       "      <td>False</td>\n",
       "      <td>False</td>\n",
       "      <td>False</td>\n",
       "    </tr>\n",
       "    <tr>\n",
       "      <th>1</th>\n",
       "      <td>423.0</td>\n",
       "      <td>True</td>\n",
       "      <td>False</td>\n",
       "      <td>False</td>\n",
       "      <td>False</td>\n",
       "      <td>False</td>\n",
       "    </tr>\n",
       "    <tr>\n",
       "      <th>2</th>\n",
       "      <td>101.0</td>\n",
       "      <td>False</td>\n",
       "      <td>True</td>\n",
       "      <td>False</td>\n",
       "      <td>False</td>\n",
       "      <td>True</td>\n",
       "    </tr>\n",
       "    <tr>\n",
       "      <th>3</th>\n",
       "      <td>288.0</td>\n",
       "      <td>False</td>\n",
       "      <td>False</td>\n",
       "      <td>True</td>\n",
       "      <td>False</td>\n",
       "      <td>False</td>\n",
       "    </tr>\n",
       "    <tr>\n",
       "      <th>4</th>\n",
       "      <td>248.0</td>\n",
       "      <td>False</td>\n",
       "      <td>False</td>\n",
       "      <td>False</td>\n",
       "      <td>True</td>\n",
       "      <td>False</td>\n",
       "    </tr>\n",
       "  </tbody>\n",
       "</table>\n",
       "</div>"
      ],
      "text/plain": [
       "   Employability_Before  Undergrad_Degree_Business  \\\n",
       "0                 252.0                       True   \n",
       "1                 423.0                       True   \n",
       "2                 101.0                      False   \n",
       "3                 288.0                      False   \n",
       "4                 248.0                      False   \n",
       "\n",
       "   Undergrad_Degree_Computer Science  Undergrad_Degree_Engineering  \\\n",
       "0                              False                         False   \n",
       "1                              False                         False   \n",
       "2                               True                         False   \n",
       "3                              False                          True   \n",
       "4                              False                         False   \n",
       "\n",
       "   Undergrad_Degree_Finance  Work_Experience_Yes  \n",
       "0                     False                False  \n",
       "1                     False                False  \n",
       "2                     False                 True  \n",
       "3                     False                False  \n",
       "4                      True                False  "
      ]
     },
     "metadata": {},
     "output_type": "display_data"
    },
    {
     "data": {
      "text/html": [
       "<div>\n",
       "<style scoped>\n",
       "    .dataframe tbody tr th:only-of-type {\n",
       "        vertical-align: middle;\n",
       "    }\n",
       "\n",
       "    .dataframe tbody tr th {\n",
       "        vertical-align: top;\n",
       "    }\n",
       "\n",
       "    .dataframe thead th {\n",
       "        text-align: right;\n",
       "    }\n",
       "</style>\n",
       "<table border=\"1\" class=\"dataframe\">\n",
       "  <thead>\n",
       "    <tr style=\"text-align: right;\">\n",
       "      <th></th>\n",
       "      <th>Employability_Before</th>\n",
       "      <th>Undergrad_Degree_Business</th>\n",
       "      <th>Undergrad_Degree_Computer Science</th>\n",
       "      <th>Undergrad_Degree_Engineering</th>\n",
       "      <th>Undergrad_Degree_Finance</th>\n",
       "      <th>Work_Experience_Yes</th>\n",
       "    </tr>\n",
       "  </thead>\n",
       "  <tbody>\n",
       "    <tr>\n",
       "      <th>0</th>\n",
       "      <td>0.987385</td>\n",
       "      <td>True</td>\n",
       "      <td>False</td>\n",
       "      <td>False</td>\n",
       "      <td>False</td>\n",
       "      <td>False</td>\n",
       "    </tr>\n",
       "    <tr>\n",
       "      <th>1</th>\n",
       "      <td>5.717070</td>\n",
       "      <td>True</td>\n",
       "      <td>False</td>\n",
       "      <td>False</td>\n",
       "      <td>False</td>\n",
       "      <td>False</td>\n",
       "    </tr>\n",
       "    <tr>\n",
       "      <th>2</th>\n",
       "      <td>-3.189121</td>\n",
       "      <td>False</td>\n",
       "      <td>True</td>\n",
       "      <td>False</td>\n",
       "      <td>False</td>\n",
       "      <td>True</td>\n",
       "    </tr>\n",
       "    <tr>\n",
       "      <th>3</th>\n",
       "      <td>1.983108</td>\n",
       "      <td>False</td>\n",
       "      <td>False</td>\n",
       "      <td>True</td>\n",
       "      <td>False</td>\n",
       "      <td>False</td>\n",
       "    </tr>\n",
       "    <tr>\n",
       "      <th>4</th>\n",
       "      <td>0.876749</td>\n",
       "      <td>False</td>\n",
       "      <td>False</td>\n",
       "      <td>False</td>\n",
       "      <td>True</td>\n",
       "      <td>False</td>\n",
       "    </tr>\n",
       "  </tbody>\n",
       "</table>\n",
       "</div>"
      ],
      "text/plain": [
       "   Employability_Before  Undergrad_Degree_Business  \\\n",
       "0              0.987385                       True   \n",
       "1              5.717070                       True   \n",
       "2             -3.189121                      False   \n",
       "3              1.983108                      False   \n",
       "4              0.876749                      False   \n",
       "\n",
       "   Undergrad_Degree_Computer Science  Undergrad_Degree_Engineering  \\\n",
       "0                              False                         False   \n",
       "1                              False                         False   \n",
       "2                               True                         False   \n",
       "3                              False                          True   \n",
       "4                              False                         False   \n",
       "\n",
       "   Undergrad_Degree_Finance  Work_Experience_Yes  \n",
       "0                     False                False  \n",
       "1                     False                False  \n",
       "2                     False                 True  \n",
       "3                     False                False  \n",
       "4                      True                False  "
      ]
     },
     "metadata": {},
     "output_type": "display_data"
    }
   ],
   "source": [
    "# Setup train and val dataframes\n",
    "X = df[variables]\n",
    "y = df[target]\n",
    "\n",
    "X_train, X_val, y_train, y_val = train_test_split(X, y, test_size=0.4, random_state=42)\n",
    "\n",
    "# # One-hot encode categorical variables\n",
    "X_enc = pd.get_dummies(X, drop_first=True)\n",
    "X_train = pd.get_dummies(X_train, drop_first=True)\n",
    "X_val = pd.get_dummies(X_val, drop_first=True)\n",
    "\n",
    "# # Standardize cont  / Initialize scaler\n",
    "scaler = StandardScaler()\n",
    "std_cols = [\"Employability_Before\"]\n",
    "\n",
    "Xs_enc = X_enc.copy()\n",
    "Xs_enc[std_cols] = scaler.fit_transform(Xs_enc[std_cols])\n",
    "\n",
    "Xs_train = X_train.copy()\n",
    "Xs_train[std_cols] = scaler.transform(Xs_train[std_cols])\n",
    "\n",
    "Xs_val = X_val.copy()\n",
    "Xs_val[std_cols] = scaler.transform(Xs_val[std_cols])\n",
    "\n",
    "display(X_enc.head())\n",
    "display(Xs_enc.head())"
   ]
  },
  {
   "cell_type": "markdown",
   "metadata": {},
   "source": [
    "## Import Predictive Models"
   ]
  },
  {
   "cell_type": "code",
   "execution_count": 53,
   "metadata": {},
   "outputs": [],
   "source": [
    "models = Path(\"../models\")\n",
    "dt_model = joblib.load(models / \"decision_tree_model.pkl\")\n",
    "knn_model = joblib.load(models / \"k_nearest_neighbor_model.pkl\")\n",
    "lr_model = joblib.load(models / \"logistic_regression_model.pkl\")"
   ]
  },
  {
   "cell_type": "markdown",
   "metadata": {},
   "source": [
    "## Classification Reports"
   ]
  },
  {
   "cell_type": "code",
   "execution_count": 54,
   "metadata": {},
   "outputs": [
    {
     "name": "stdout",
     "output_type": "stream",
     "text": [
      "Confusion Matrix:\n",
      "[[186  10]\n",
      " [ 10 274]]\n"
     ]
    },
    {
     "data": {
      "text/html": [
       "<div>\n",
       "<style scoped>\n",
       "    .dataframe tbody tr th:only-of-type {\n",
       "        vertical-align: middle;\n",
       "    }\n",
       "\n",
       "    .dataframe tbody tr th {\n",
       "        vertical-align: top;\n",
       "    }\n",
       "\n",
       "    .dataframe thead th {\n",
       "        text-align: right;\n",
       "    }\n",
       "</style>\n",
       "<table border=\"1\" class=\"dataframe\">\n",
       "  <thead>\n",
       "    <tr style=\"text-align: right;\">\n",
       "      <th></th>\n",
       "      <th>Class 0</th>\n",
       "      <th>Class 1</th>\n",
       "    </tr>\n",
       "  </thead>\n",
       "  <tbody>\n",
       "    <tr>\n",
       "      <th>Accuracy</th>\n",
       "      <td>0.95833</td>\n",
       "      <td>0.95833</td>\n",
       "    </tr>\n",
       "    <tr>\n",
       "      <th>Error rate</th>\n",
       "      <td>0.04167</td>\n",
       "      <td>0.04167</td>\n",
       "    </tr>\n",
       "    <tr>\n",
       "      <th>Sensitivity (Recall)</th>\n",
       "      <td>0.94898</td>\n",
       "      <td>0.96479</td>\n",
       "    </tr>\n",
       "    <tr>\n",
       "      <th>Specificity</th>\n",
       "      <td>0.96479</td>\n",
       "      <td>0.94898</td>\n",
       "    </tr>\n",
       "    <tr>\n",
       "      <th>Precision</th>\n",
       "      <td>0.94898</td>\n",
       "      <td>0.96479</td>\n",
       "    </tr>\n",
       "    <tr>\n",
       "      <th>F1</th>\n",
       "      <td>0.94898</td>\n",
       "      <td>0.96479</td>\n",
       "    </tr>\n",
       "    <tr>\n",
       "      <th>F2</th>\n",
       "      <td>0.94898</td>\n",
       "      <td>0.96479</td>\n",
       "    </tr>\n",
       "    <tr>\n",
       "      <th>F0.5</th>\n",
       "      <td>0.94898</td>\n",
       "      <td>0.96479</td>\n",
       "    </tr>\n",
       "  </tbody>\n",
       "</table>\n",
       "</div>"
      ],
      "text/plain": [
       "                      Class 0  Class 1\n",
       "Accuracy              0.95833  0.95833\n",
       "Error rate            0.04167  0.04167\n",
       "Sensitivity (Recall)  0.94898  0.96479\n",
       "Specificity           0.96479  0.94898\n",
       "Precision             0.94898  0.96479\n",
       "F1                    0.94898  0.96479\n",
       "F2                    0.94898  0.96479\n",
       "F0.5                  0.94898  0.96479"
      ]
     },
     "execution_count": 54,
     "metadata": {},
     "output_type": "execute_result"
    }
   ],
   "source": [
    "dt_model.fit(X_train, y_train)\n",
    "dty_pred = dt_model.predict(X_val)\n",
    "cm = confusion_matrix(y_val, dty_pred)\n",
    "jm.mc_confusion(cm)"
   ]
  },
  {
   "cell_type": "code",
   "execution_count": 55,
   "metadata": {},
   "outputs": [
    {
     "name": "stdout",
     "output_type": "stream",
     "text": [
      "Confusion Matrix:\n",
      "[[182  14]\n",
      " [  6 278]]\n"
     ]
    },
    {
     "data": {
      "text/html": [
       "<div>\n",
       "<style scoped>\n",
       "    .dataframe tbody tr th:only-of-type {\n",
       "        vertical-align: middle;\n",
       "    }\n",
       "\n",
       "    .dataframe tbody tr th {\n",
       "        vertical-align: top;\n",
       "    }\n",
       "\n",
       "    .dataframe thead th {\n",
       "        text-align: right;\n",
       "    }\n",
       "</style>\n",
       "<table border=\"1\" class=\"dataframe\">\n",
       "  <thead>\n",
       "    <tr style=\"text-align: right;\">\n",
       "      <th></th>\n",
       "      <th>Class 0</th>\n",
       "      <th>Class 1</th>\n",
       "    </tr>\n",
       "  </thead>\n",
       "  <tbody>\n",
       "    <tr>\n",
       "      <th>Accuracy</th>\n",
       "      <td>0.95833</td>\n",
       "      <td>0.95833</td>\n",
       "    </tr>\n",
       "    <tr>\n",
       "      <th>Error rate</th>\n",
       "      <td>0.04167</td>\n",
       "      <td>0.04167</td>\n",
       "    </tr>\n",
       "    <tr>\n",
       "      <th>Sensitivity (Recall)</th>\n",
       "      <td>0.92857</td>\n",
       "      <td>0.97887</td>\n",
       "    </tr>\n",
       "    <tr>\n",
       "      <th>Specificity</th>\n",
       "      <td>0.97887</td>\n",
       "      <td>0.92857</td>\n",
       "    </tr>\n",
       "    <tr>\n",
       "      <th>Precision</th>\n",
       "      <td>0.96809</td>\n",
       "      <td>0.95205</td>\n",
       "    </tr>\n",
       "    <tr>\n",
       "      <th>F1</th>\n",
       "      <td>0.94792</td>\n",
       "      <td>0.96528</td>\n",
       "    </tr>\n",
       "    <tr>\n",
       "      <th>F2</th>\n",
       "      <td>0.93621</td>\n",
       "      <td>0.97339</td>\n",
       "    </tr>\n",
       "    <tr>\n",
       "      <th>F0.5</th>\n",
       "      <td>0.95992</td>\n",
       "      <td>0.95730</td>\n",
       "    </tr>\n",
       "  </tbody>\n",
       "</table>\n",
       "</div>"
      ],
      "text/plain": [
       "                      Class 0  Class 1\n",
       "Accuracy              0.95833  0.95833\n",
       "Error rate            0.04167  0.04167\n",
       "Sensitivity (Recall)  0.92857  0.97887\n",
       "Specificity           0.97887  0.92857\n",
       "Precision             0.96809  0.95205\n",
       "F1                    0.94792  0.96528\n",
       "F2                    0.93621  0.97339\n",
       "F0.5                  0.95992  0.95730"
      ]
     },
     "execution_count": 55,
     "metadata": {},
     "output_type": "execute_result"
    }
   ],
   "source": [
    "knn_model.fit(Xs_train, y_train)\n",
    "knny_pred = knn_model.predict(Xs_val)\n",
    "cm = confusion_matrix(y_val, knny_pred)\n",
    "jm.mc_confusion(cm)"
   ]
  },
  {
   "cell_type": "code",
   "execution_count": 56,
   "metadata": {},
   "outputs": [
    {
     "name": "stdout",
     "output_type": "stream",
     "text": [
      "Confusion Matrix:\n",
      "[[184  12]\n",
      " [  5 279]]\n"
     ]
    },
    {
     "data": {
      "text/html": [
       "<div>\n",
       "<style scoped>\n",
       "    .dataframe tbody tr th:only-of-type {\n",
       "        vertical-align: middle;\n",
       "    }\n",
       "\n",
       "    .dataframe tbody tr th {\n",
       "        vertical-align: top;\n",
       "    }\n",
       "\n",
       "    .dataframe thead th {\n",
       "        text-align: right;\n",
       "    }\n",
       "</style>\n",
       "<table border=\"1\" class=\"dataframe\">\n",
       "  <thead>\n",
       "    <tr style=\"text-align: right;\">\n",
       "      <th></th>\n",
       "      <th>Class 0</th>\n",
       "      <th>Class 1</th>\n",
       "    </tr>\n",
       "  </thead>\n",
       "  <tbody>\n",
       "    <tr>\n",
       "      <th>Accuracy</th>\n",
       "      <td>0.96458</td>\n",
       "      <td>0.96458</td>\n",
       "    </tr>\n",
       "    <tr>\n",
       "      <th>Error rate</th>\n",
       "      <td>0.03542</td>\n",
       "      <td>0.03542</td>\n",
       "    </tr>\n",
       "    <tr>\n",
       "      <th>Sensitivity (Recall)</th>\n",
       "      <td>0.93878</td>\n",
       "      <td>0.98239</td>\n",
       "    </tr>\n",
       "    <tr>\n",
       "      <th>Specificity</th>\n",
       "      <td>0.98239</td>\n",
       "      <td>0.93878</td>\n",
       "    </tr>\n",
       "    <tr>\n",
       "      <th>Precision</th>\n",
       "      <td>0.97354</td>\n",
       "      <td>0.95876</td>\n",
       "    </tr>\n",
       "    <tr>\n",
       "      <th>F1</th>\n",
       "      <td>0.95584</td>\n",
       "      <td>0.97043</td>\n",
       "    </tr>\n",
       "    <tr>\n",
       "      <th>F2</th>\n",
       "      <td>0.94553</td>\n",
       "      <td>0.97758</td>\n",
       "    </tr>\n",
       "    <tr>\n",
       "      <th>F0.5</th>\n",
       "      <td>0.96639</td>\n",
       "      <td>0.96340</td>\n",
       "    </tr>\n",
       "  </tbody>\n",
       "</table>\n",
       "</div>"
      ],
      "text/plain": [
       "                      Class 0  Class 1\n",
       "Accuracy              0.96458  0.96458\n",
       "Error rate            0.03542  0.03542\n",
       "Sensitivity (Recall)  0.93878  0.98239\n",
       "Specificity           0.98239  0.93878\n",
       "Precision             0.97354  0.95876\n",
       "F1                    0.95584  0.97043\n",
       "F2                    0.94553  0.97758\n",
       "F0.5                  0.96639  0.96340"
      ]
     },
     "execution_count": 56,
     "metadata": {},
     "output_type": "execute_result"
    }
   ],
   "source": [
    "lr_model.fit(Xs_train, y_train)\n",
    "lry_pred = lr_model.predict(Xs_val)\n",
    "cm = confusion_matrix(y_val, lry_pred)\n",
    "jm.mc_confusion(cm)"
   ]
  },
  {
   "cell_type": "markdown",
   "metadata": {},
   "source": [
    "| Metric | Decision Tree | K-Nearest Neighbor | Logistic Regression |\n",
    "|--------|:-------------:|:------------------:|:-------------------:|\n",
    "| Accuracy | 0.96 | 0.96 | 0.96 |\n",
    "| F1 Score | 0.96 | 0.97 | 0.97 |\n",
    "| Precision | 0.96 | 0.95 | 0.96 | \n",
    "| Recall | 0.96 | 0.98 | 0.98 | "
   ]
  },
  {
   "cell_type": "markdown",
   "metadata": {},
   "source": [
    "## Accuracy"
   ]
  },
  {
   "cell_type": "code",
   "execution_count": 57,
   "metadata": {},
   "outputs": [
    {
     "data": {
      "image/png": "[encoded data removed]",
      "text/plain": [
       "<Figure size 1000x800 with 9 Axes>"
      ]
     },
     "metadata": {},
     "output_type": "display_data"
    }
   ],
   "source": [
    "n_rows = 3\n",
    "n_cols = 3\n",
    "\n",
    "fix, axes = plt.subplots(n_rows, n_cols, figsize=(10, 8))\n",
    "\n",
    "axes = axes.flatten()\n",
    "\n",
    "for idx, k_folds in enumerate(range(2, 11)):\n",
    "    dt_accuracy = cross_val_score(dt_model, Xs_enc, y, cv=k_folds, scoring=\"accuracy\")\n",
    "    knn_accuracy = cross_val_score(knn_model, Xs_enc, y, cv=k_folds, scoring=\"accuracy\")\n",
    "    lr_accuracy = cross_val_score(lr_model, Xs_enc, y, cv=k_folds, scoring=\"accuracy\")\n",
    "    models = [\"Decision Tree\", \"KNN\", \"Logistic Regression\"]\n",
    "    scores = [dt_accuracy, knn_accuracy, lr_accuracy]\n",
    "\n",
    "    axes[idx].boxplot(scores, labels=models)\n",
    "    axes[idx].set_title(f\"Accuracy: k_folds={k_folds}\")\n",
    "\n",
    "plt.tight_layout()\n",
    "plt.show()"
   ]
  },
  {
   "cell_type": "markdown",
   "metadata": {},
   "source": [
    "## AUC-ROC Chart"
   ]
  },
  {
   "cell_type": "code",
   "execution_count": 62,
   "metadata": {},
   "outputs": [
    {
     "data": {
      "image/png": "[encoded data removed]",
      "text/plain": [
       "<Figure size 640x480 with 1 Axes>"
      ]
     },
     "metadata": {},
     "output_type": "display_data"
    }
   ],
   "source": [
    "plt.figure()\n",
    "jc.plot_roc(y_val, dty_pred, \"Decision Tree\")\n",
    "jc.plot_roc(y_val, knny_pred, \"K-Nearest Neighbor\")\n",
    "jc.plot_roc(y_val, lry_pred, \"Logistic Regression\")\n",
    "plt.plot([0, 1], [0, 1], color=\"navy\", lw=2, linestyle=\"--\")\n",
    "\n",
    "plt.xlabel = \"False Positive Rate\"\n",
    "plt.ylabel = \"True Positive Rate\"\n",
    "plt.legend(loc=\"lower right\")\n",
    "plt.show()"
   ]
  },
  {
   "cell_type": "code",
   "execution_count": 78,
   "metadata": {},
   "outputs": [
    {
     "ename": "ValueError",
     "evalue": "Invalid color 1.0",
     "output_type": "error",
     "traceback": [
      "\u001b[0;31m---------------------------------------------------------------------------\u001b[0m",
      "\u001b[0;31mValueError\u001b[0m                                Traceback (most recent call last)",
      "Cell \u001b[0;32mIn[78], line 4\u001b[0m\n\u001b[1;32m      2\u001b[0m knn_proba \u001b[38;5;241m=\u001b[39m knn_model\u001b[38;5;241m.\u001b[39mpredict_proba(Xs_val)[:, \u001b[38;5;241m1\u001b[39m]\n\u001b[1;32m      3\u001b[0m lr_proba \u001b[38;5;241m=\u001b[39m lr_model\u001b[38;5;241m.\u001b[39mpredict_proba(Xs_val)[:, \u001b[38;5;241m1\u001b[39m]\n\u001b[0;32m----> 4\u001b[0m \u001b[43mgainsChart\u001b[49m\u001b[43m(\u001b[49m\u001b[43my_val\u001b[49m\u001b[43m,\u001b[49m\u001b[43m \u001b[49m\u001b[43mknn_proba\u001b[49m\u001b[43m)\u001b[49m\n\u001b[1;32m      5\u001b[0m plt\u001b[38;5;241m.\u001b[39mshow()\n",
      "File \u001b[0;32m~/miniconda3/envs/ads505fp/lib/python3.8/site-packages/dmba/graphs.py:76\u001b[0m, in \u001b[0;36mgainsChart\u001b[0;34m(gains, color, label, ax, figsize)\u001b[0m\n\u001b[1;32m     73\u001b[0m cumGains \u001b[38;5;241m=\u001b[39m pd\u001b[38;5;241m.\u001b[39mconcat([pd\u001b[38;5;241m.\u001b[39mSeries([\u001b[38;5;241m0\u001b[39m]), gains\u001b[38;5;241m.\u001b[39mcumsum()])  \u001b[38;5;66;03m# Note the additional 0 at the front\u001b[39;00m\n\u001b[1;32m     74\u001b[0m gains_df \u001b[38;5;241m=\u001b[39m pd\u001b[38;5;241m.\u001b[39mDataFrame({\u001b[38;5;124m'\u001b[39m\u001b[38;5;124mrecords\u001b[39m\u001b[38;5;124m'\u001b[39m: \u001b[38;5;28mlist\u001b[39m(\u001b[38;5;28mrange\u001b[39m(\u001b[38;5;28mlen\u001b[39m(gains) \u001b[38;5;241m+\u001b[39m \u001b[38;5;241m1\u001b[39m)), \u001b[38;5;124m'\u001b[39m\u001b[38;5;124mcumGains\u001b[39m\u001b[38;5;124m'\u001b[39m: cumGains})\n\u001b[0;32m---> 76\u001b[0m ax \u001b[38;5;241m=\u001b[39m \u001b[43mgains_df\u001b[49m\u001b[38;5;241;43m.\u001b[39;49m\u001b[43mplot\u001b[49m\u001b[43m(\u001b[49m\u001b[43mx\u001b[49m\u001b[38;5;241;43m=\u001b[39;49m\u001b[38;5;124;43m'\u001b[39;49m\u001b[38;5;124;43mrecords\u001b[39;49m\u001b[38;5;124;43m'\u001b[39;49m\u001b[43m,\u001b[49m\u001b[43m \u001b[49m\u001b[43my\u001b[49m\u001b[38;5;241;43m=\u001b[39;49m\u001b[38;5;124;43m'\u001b[39;49m\u001b[38;5;124;43mcumGains\u001b[39;49m\u001b[38;5;124;43m'\u001b[39;49m\u001b[43m,\u001b[49m\u001b[43m \u001b[49m\u001b[43mcolor\u001b[49m\u001b[38;5;241;43m=\u001b[39;49m\u001b[43mcolor\u001b[49m\u001b[43m,\u001b[49m\u001b[43m \u001b[49m\u001b[43mlabel\u001b[49m\u001b[38;5;241;43m=\u001b[39;49m\u001b[43mlabel\u001b[49m\u001b[43m,\u001b[49m\u001b[43m \u001b[49m\u001b[43mlegend\u001b[49m\u001b[38;5;241;43m=\u001b[39;49m\u001b[38;5;28;43;01mFalse\u001b[39;49;00m\u001b[43m,\u001b[49m\n\u001b[1;32m     77\u001b[0m \u001b[43m                   \u001b[49m\u001b[43max\u001b[49m\u001b[38;5;241;43m=\u001b[39;49m\u001b[43max\u001b[49m\u001b[43m,\u001b[49m\u001b[43m \u001b[49m\u001b[43mfigsize\u001b[49m\u001b[38;5;241;43m=\u001b[39;49m\u001b[43mfigsize\u001b[49m\u001b[43m)\u001b[49m\n\u001b[1;32m     79\u001b[0m \u001b[38;5;66;03m# Add line for random gain\u001b[39;00m\n\u001b[1;32m     80\u001b[0m ax\u001b[38;5;241m.\u001b[39mplot([\u001b[38;5;241m0\u001b[39m, nTotal], [\u001b[38;5;241m0\u001b[39m, nActual], linestyle\u001b[38;5;241m=\u001b[39m\u001b[38;5;124m'\u001b[39m\u001b[38;5;124m--\u001b[39m\u001b[38;5;124m'\u001b[39m, color\u001b[38;5;241m=\u001b[39m\u001b[38;5;124m'\u001b[39m\u001b[38;5;124mk\u001b[39m\u001b[38;5;124m'\u001b[39m)\n",
      "File \u001b[0;32m~/miniconda3/envs/ads505fp/lib/python3.8/site-packages/pandas/plotting/_core.py:975\u001b[0m, in \u001b[0;36mPlotAccessor.__call__\u001b[0;34m(self, *args, **kwargs)\u001b[0m\n\u001b[1;32m    972\u001b[0m             label_name \u001b[38;5;241m=\u001b[39m label_kw \u001b[38;5;129;01mor\u001b[39;00m data\u001b[38;5;241m.\u001b[39mcolumns\n\u001b[1;32m    973\u001b[0m             data\u001b[38;5;241m.\u001b[39mcolumns \u001b[38;5;241m=\u001b[39m label_name\n\u001b[0;32m--> 975\u001b[0m \u001b[38;5;28;01mreturn\u001b[39;00m \u001b[43mplot_backend\u001b[49m\u001b[38;5;241;43m.\u001b[39;49m\u001b[43mplot\u001b[49m\u001b[43m(\u001b[49m\u001b[43mdata\u001b[49m\u001b[43m,\u001b[49m\u001b[43m \u001b[49m\u001b[43mkind\u001b[49m\u001b[38;5;241;43m=\u001b[39;49m\u001b[43mkind\u001b[49m\u001b[43m,\u001b[49m\u001b[43m \u001b[49m\u001b[38;5;241;43m*\u001b[39;49m\u001b[38;5;241;43m*\u001b[39;49m\u001b[43mkwargs\u001b[49m\u001b[43m)\u001b[49m\n",
      "File \u001b[0;32m~/miniconda3/envs/ads505fp/lib/python3.8/site-packages/pandas/plotting/_matplotlib/__init__.py:71\u001b[0m, in \u001b[0;36mplot\u001b[0;34m(data, kind, **kwargs)\u001b[0m\n\u001b[1;32m     69\u001b[0m         kwargs[\u001b[38;5;124m\"\u001b[39m\u001b[38;5;124max\u001b[39m\u001b[38;5;124m\"\u001b[39m] \u001b[38;5;241m=\u001b[39m \u001b[38;5;28mgetattr\u001b[39m(ax, \u001b[38;5;124m\"\u001b[39m\u001b[38;5;124mleft_ax\u001b[39m\u001b[38;5;124m\"\u001b[39m, ax)\n\u001b[1;32m     70\u001b[0m plot_obj \u001b[38;5;241m=\u001b[39m PLOT_CLASSES[kind](data, \u001b[38;5;241m*\u001b[39m\u001b[38;5;241m*\u001b[39mkwargs)\n\u001b[0;32m---> 71\u001b[0m \u001b[43mplot_obj\u001b[49m\u001b[38;5;241;43m.\u001b[39;49m\u001b[43mgenerate\u001b[49m\u001b[43m(\u001b[49m\u001b[43m)\u001b[49m\n\u001b[1;32m     72\u001b[0m plot_obj\u001b[38;5;241m.\u001b[39mdraw()\n\u001b[1;32m     73\u001b[0m \u001b[38;5;28;01mreturn\u001b[39;00m plot_obj\u001b[38;5;241m.\u001b[39mresult\n",
      "File \u001b[0;32m~/miniconda3/envs/ads505fp/lib/python3.8/site-packages/pandas/plotting/_matplotlib/core.py:448\u001b[0m, in \u001b[0;36mMPLPlot.generate\u001b[0;34m(self)\u001b[0m\n\u001b[1;32m    446\u001b[0m \u001b[38;5;28mself\u001b[39m\u001b[38;5;241m.\u001b[39m_compute_plot_data()\n\u001b[1;32m    447\u001b[0m \u001b[38;5;28mself\u001b[39m\u001b[38;5;241m.\u001b[39m_setup_subplots()\n\u001b[0;32m--> 448\u001b[0m \u001b[38;5;28;43mself\u001b[39;49m\u001b[38;5;241;43m.\u001b[39;49m\u001b[43m_make_plot\u001b[49m\u001b[43m(\u001b[49m\u001b[43m)\u001b[49m\n\u001b[1;32m    449\u001b[0m \u001b[38;5;28mself\u001b[39m\u001b[38;5;241m.\u001b[39m_add_table()\n\u001b[1;32m    450\u001b[0m \u001b[38;5;28mself\u001b[39m\u001b[38;5;241m.\u001b[39m_make_legend()\n",
      "File \u001b[0;32m~/miniconda3/envs/ads505fp/lib/python3.8/site-packages/pandas/plotting/_matplotlib/core.py:1371\u001b[0m, in \u001b[0;36mLinePlot._make_plot\u001b[0;34m(self)\u001b[0m\n\u001b[1;32m   1368\u001b[0m stacking_id \u001b[38;5;241m=\u001b[39m \u001b[38;5;28mself\u001b[39m\u001b[38;5;241m.\u001b[39m_get_stacking_id()\n\u001b[1;32m   1369\u001b[0m is_errorbar \u001b[38;5;241m=\u001b[39m com\u001b[38;5;241m.\u001b[39many_not_none(\u001b[38;5;241m*\u001b[39m\u001b[38;5;28mself\u001b[39m\u001b[38;5;241m.\u001b[39merrors\u001b[38;5;241m.\u001b[39mvalues())\n\u001b[0;32m-> 1371\u001b[0m colors \u001b[38;5;241m=\u001b[39m \u001b[38;5;28;43mself\u001b[39;49m\u001b[38;5;241;43m.\u001b[39;49m\u001b[43m_get_colors\u001b[49m\u001b[43m(\u001b[49m\u001b[43m)\u001b[49m\n\u001b[1;32m   1372\u001b[0m \u001b[38;5;28;01mfor\u001b[39;00m i, (label, y) \u001b[38;5;129;01min\u001b[39;00m \u001b[38;5;28menumerate\u001b[39m(it):\n\u001b[1;32m   1373\u001b[0m     ax \u001b[38;5;241m=\u001b[39m \u001b[38;5;28mself\u001b[39m\u001b[38;5;241m.\u001b[39m_get_ax(i)\n",
      "File \u001b[0;32m~/miniconda3/envs/ads505fp/lib/python3.8/site-packages/pandas/plotting/_matplotlib/core.py:995\u001b[0m, in \u001b[0;36mMPLPlot._get_colors\u001b[0;34m(self, num_colors, color_kwds)\u001b[0m\n\u001b[1;32m    992\u001b[0m \u001b[38;5;28;01mif\u001b[39;00m num_colors \u001b[38;5;129;01mis\u001b[39;00m \u001b[38;5;28;01mNone\u001b[39;00m:\n\u001b[1;32m    993\u001b[0m     num_colors \u001b[38;5;241m=\u001b[39m \u001b[38;5;28mself\u001b[39m\u001b[38;5;241m.\u001b[39mnseries\n\u001b[0;32m--> 995\u001b[0m \u001b[38;5;28;01mreturn\u001b[39;00m \u001b[43mget_standard_colors\u001b[49m\u001b[43m(\u001b[49m\n\u001b[1;32m    996\u001b[0m \u001b[43m    \u001b[49m\u001b[43mnum_colors\u001b[49m\u001b[38;5;241;43m=\u001b[39;49m\u001b[43mnum_colors\u001b[49m\u001b[43m,\u001b[49m\n\u001b[1;32m    997\u001b[0m \u001b[43m    \u001b[49m\u001b[43mcolormap\u001b[49m\u001b[38;5;241;43m=\u001b[39;49m\u001b[38;5;28;43mself\u001b[39;49m\u001b[38;5;241;43m.\u001b[39;49m\u001b[43mcolormap\u001b[49m\u001b[43m,\u001b[49m\n\u001b[1;32m    998\u001b[0m \u001b[43m    \u001b[49m\u001b[43mcolor\u001b[49m\u001b[38;5;241;43m=\u001b[39;49m\u001b[38;5;28;43mself\u001b[39;49m\u001b[38;5;241;43m.\u001b[39;49m\u001b[43mkwds\u001b[49m\u001b[38;5;241;43m.\u001b[39;49m\u001b[43mget\u001b[49m\u001b[43m(\u001b[49m\u001b[43mcolor_kwds\u001b[49m\u001b[43m)\u001b[49m\u001b[43m,\u001b[49m\n\u001b[1;32m    999\u001b[0m \u001b[43m\u001b[49m\u001b[43m)\u001b[49m\n",
      "File \u001b[0;32m~/miniconda3/envs/ads505fp/lib/python3.8/site-packages/pandas/plotting/_matplotlib/style.py:68\u001b[0m, in \u001b[0;36mget_standard_colors\u001b[0;34m(num_colors, colormap, color_type, color)\u001b[0m\n\u001b[1;32m     65\u001b[0m \u001b[38;5;28;01mif\u001b[39;00m \u001b[38;5;28misinstance\u001b[39m(color, \u001b[38;5;28mdict\u001b[39m):\n\u001b[1;32m     66\u001b[0m     \u001b[38;5;28;01mreturn\u001b[39;00m color\n\u001b[0;32m---> 68\u001b[0m colors \u001b[38;5;241m=\u001b[39m \u001b[43m_derive_colors\u001b[49m\u001b[43m(\u001b[49m\n\u001b[1;32m     69\u001b[0m \u001b[43m    \u001b[49m\u001b[43mcolor\u001b[49m\u001b[38;5;241;43m=\u001b[39;49m\u001b[43mcolor\u001b[49m\u001b[43m,\u001b[49m\n\u001b[1;32m     70\u001b[0m \u001b[43m    \u001b[49m\u001b[43mcolormap\u001b[49m\u001b[38;5;241;43m=\u001b[39;49m\u001b[43mcolormap\u001b[49m\u001b[43m,\u001b[49m\n\u001b[1;32m     71\u001b[0m \u001b[43m    \u001b[49m\u001b[43mcolor_type\u001b[49m\u001b[38;5;241;43m=\u001b[39;49m\u001b[43mcolor_type\u001b[49m\u001b[43m,\u001b[49m\n\u001b[1;32m     72\u001b[0m \u001b[43m    \u001b[49m\u001b[43mnum_colors\u001b[49m\u001b[38;5;241;43m=\u001b[39;49m\u001b[43mnum_colors\u001b[49m\u001b[43m,\u001b[49m\n\u001b[1;32m     73\u001b[0m \u001b[43m\u001b[49m\u001b[43m)\u001b[49m\n\u001b[1;32m     75\u001b[0m \u001b[38;5;28;01mreturn\u001b[39;00m \u001b[38;5;28mlist\u001b[39m(_cycle_colors(colors, num_colors\u001b[38;5;241m=\u001b[39mnum_colors))\n",
      "File \u001b[0;32m~/miniconda3/envs/ads505fp/lib/python3.8/site-packages/pandas/plotting/_matplotlib/style.py:125\u001b[0m, in \u001b[0;36m_derive_colors\u001b[0;34m(color, colormap, color_type, num_colors)\u001b[0m\n\u001b[1;32m    120\u001b[0m     \u001b[38;5;28;01mif\u001b[39;00m colormap \u001b[38;5;129;01mis\u001b[39;00m \u001b[38;5;129;01mnot\u001b[39;00m \u001b[38;5;28;01mNone\u001b[39;00m:\n\u001b[1;32m    121\u001b[0m         warnings\u001b[38;5;241m.\u001b[39mwarn(\n\u001b[1;32m    122\u001b[0m             \u001b[38;5;124m\"\u001b[39m\u001b[38;5;124m'\u001b[39m\u001b[38;5;124mcolor\u001b[39m\u001b[38;5;124m'\u001b[39m\u001b[38;5;124m and \u001b[39m\u001b[38;5;124m'\u001b[39m\u001b[38;5;124mcolormap\u001b[39m\u001b[38;5;124m'\u001b[39m\u001b[38;5;124m cannot be used simultaneously. Using \u001b[39m\u001b[38;5;124m'\u001b[39m\u001b[38;5;124mcolor\u001b[39m\u001b[38;5;124m'\u001b[39m\u001b[38;5;124m\"\u001b[39m,\n\u001b[1;32m    123\u001b[0m             stacklevel\u001b[38;5;241m=\u001b[39mfind_stack_level(),\n\u001b[1;32m    124\u001b[0m         )\n\u001b[0;32m--> 125\u001b[0m     \u001b[38;5;28;01mreturn\u001b[39;00m \u001b[43m_get_colors_from_color\u001b[49m\u001b[43m(\u001b[49m\u001b[43mcolor\u001b[49m\u001b[43m)\u001b[49m\n\u001b[1;32m    126\u001b[0m \u001b[38;5;28;01melse\u001b[39;00m:\n\u001b[1;32m    127\u001b[0m     \u001b[38;5;28;01mreturn\u001b[39;00m _get_colors_from_color_type(color_type, num_colors\u001b[38;5;241m=\u001b[39mnum_colors)\n",
      "File \u001b[0;32m~/miniconda3/envs/ads505fp/lib/python3.8/site-packages/pandas/plotting/_matplotlib/style.py:171\u001b[0m, in \u001b[0;36m_get_colors_from_color\u001b[0;34m(color)\u001b[0m\n\u001b[1;32m    168\u001b[0m     \u001b[38;5;28;01mreturn\u001b[39;00m [color]\n\u001b[1;32m    170\u001b[0m color \u001b[38;5;241m=\u001b[39m cast(Collection[Color], color)\n\u001b[0;32m--> 171\u001b[0m \u001b[38;5;28;01mreturn\u001b[39;00m \u001b[38;5;28;43mlist\u001b[39;49m\u001b[43m(\u001b[49m\u001b[43m_gen_list_of_colors_from_iterable\u001b[49m\u001b[43m(\u001b[49m\u001b[43mcolor\u001b[49m\u001b[43m)\u001b[49m\u001b[43m)\u001b[49m\n",
      "File \u001b[0;32m~/miniconda3/envs/ads505fp/lib/python3.8/site-packages/pandas/plotting/_matplotlib/style.py:204\u001b[0m, in \u001b[0;36m_gen_list_of_colors_from_iterable\u001b[0;34m(color)\u001b[0m\n\u001b[1;32m    202\u001b[0m     \u001b[38;5;28;01myield\u001b[39;00m x\n\u001b[1;32m    203\u001b[0m \u001b[38;5;28;01melse\u001b[39;00m:\n\u001b[0;32m--> 204\u001b[0m     \u001b[38;5;28;01mraise\u001b[39;00m \u001b[38;5;167;01mValueError\u001b[39;00m(\u001b[38;5;124mf\u001b[39m\u001b[38;5;124m\"\u001b[39m\u001b[38;5;124mInvalid color \u001b[39m\u001b[38;5;132;01m{\u001b[39;00mx\u001b[38;5;132;01m}\u001b[39;00m\u001b[38;5;124m\"\u001b[39m)\n",
      "\u001b[0;31mValueError\u001b[0m: Invalid color 1.0"
     ]
    },
    {
     "data": {
      "image/png": "[encoded data removed]",
      "text/plain": [
       "<Figure size 640x480 with 1 Axes>"
      ]
     },
     "metadata": {},
     "output_type": "display_data"
    }
   ],
   "source": [
    "dt_proba = dt_model.predict_proba(X_val)[:, 1]\n",
    "knn_proba = knn_model.predict_proba(Xs_val)[:, 1]\n",
    "lr_proba = lr_model.predict_proba(Xs_val)[:, 1]\n",
    "gainsChart(y_val, knn_proba)\n",
    "plt.show()"
   ]
  },
  {
   "cell_type": "code",
   "execution_count": 74,
   "metadata": {},
   "outputs": [
    {
     "ename": "IndexError",
     "evalue": "too many indices for array: array is 1-dimensional, but 2 were indexed",
     "output_type": "error",
     "traceback": [
      "\u001b[0;31m---------------------------------------------------------------------------\u001b[0m",
      "\u001b[0;31mIndexError\u001b[0m                                Traceback (most recent call last)",
      "Cell \u001b[0;32mIn[74], line 1\u001b[0m\n\u001b[0;32m----> 1\u001b[0m \u001b[43mplot_cumulative_gain\u001b[49m\u001b[43m(\u001b[49m\u001b[43my_val\u001b[49m\u001b[43m,\u001b[49m\u001b[43m \u001b[49m\u001b[43mknn_proba\u001b[49m\u001b[43m)\u001b[49m\n\u001b[1;32m      2\u001b[0m plot_cumulative_gain(y_val, dt_proba)\n\u001b[1;32m      3\u001b[0m plot_cumulative_gain(y_val, lr_proba)\n",
      "File \u001b[0;32m~/miniconda3/envs/ads505fp/lib/python3.8/site-packages/scikitplot/metrics.py:1106\u001b[0m, in \u001b[0;36mplot_cumulative_gain\u001b[0;34m(y_true, y_probas, title, ax, figsize, title_fontsize, text_fontsize)\u001b[0m\n\u001b[1;32m   1102\u001b[0m     \u001b[38;5;28;01mraise\u001b[39;00m \u001b[38;5;167;01mValueError\u001b[39;00m(\u001b[38;5;124m'\u001b[39m\u001b[38;5;124mCannot calculate Cumulative Gains for data with \u001b[39m\u001b[38;5;124m'\u001b[39m\n\u001b[1;32m   1103\u001b[0m                      \u001b[38;5;124m'\u001b[39m\u001b[38;5;132;01m{}\u001b[39;00m\u001b[38;5;124m category/ies\u001b[39m\u001b[38;5;124m'\u001b[39m\u001b[38;5;241m.\u001b[39mformat(\u001b[38;5;28mlen\u001b[39m(classes)))\n\u001b[1;32m   1105\u001b[0m \u001b[38;5;66;03m# Compute Cumulative Gain Curves\u001b[39;00m\n\u001b[0;32m-> 1106\u001b[0m percentages, gains1 \u001b[38;5;241m=\u001b[39m cumulative_gain_curve(y_true, \u001b[43my_probas\u001b[49m\u001b[43m[\u001b[49m\u001b[43m:\u001b[49m\u001b[43m,\u001b[49m\u001b[43m \u001b[49m\u001b[38;5;241;43m0\u001b[39;49m\u001b[43m]\u001b[49m,\n\u001b[1;32m   1107\u001b[0m                                             classes[\u001b[38;5;241m0\u001b[39m])\n\u001b[1;32m   1108\u001b[0m percentages, gains2 \u001b[38;5;241m=\u001b[39m cumulative_gain_curve(y_true, y_probas[:, \u001b[38;5;241m1\u001b[39m],\n\u001b[1;32m   1109\u001b[0m                                             classes[\u001b[38;5;241m1\u001b[39m])\n\u001b[1;32m   1111\u001b[0m \u001b[38;5;28;01mif\u001b[39;00m ax \u001b[38;5;129;01mis\u001b[39;00m \u001b[38;5;28;01mNone\u001b[39;00m:\n",
      "\u001b[0;31mIndexError\u001b[0m: too many indices for array: array is 1-dimensional, but 2 were indexed"
     ]
    }
   ],
   "source": [
    "plot_cumulative_gain(y_val, knn_proba)\n",
    "plot_cumulative_gain(y_val, dt_proba)\n",
    "plot_cumulative_gain(y_val, lr_proba)"
   ]
  },
  {
   "cell_type": "code",
   "execution_count": null,
   "metadata": {},
   "outputs": [],
   "source": []
  }
 ],
 "metadata": {
  "kernelspec": {
   "display_name": "ads505fp",
   "language": "python",
   "name": "python3"
  },
  "language_info": {
   "codemirror_mode": {
    "name": "ipython",
    "version": 3
   },
   "file_extension": ".py",
   "mimetype": "text/x-python",
   "name": "python",
   "nbconvert_exporter": "python",
   "pygments_lexer": "ipython3",
   "version": "3.8.20"
  }
 },
 "nbformat": 4,
 "nbformat_minor": 2
}
