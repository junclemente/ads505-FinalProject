{
 "cells": [
  {
   "cell_type": "markdown",
   "metadata": {},
   "source": [
    "# Model Evaluation"
   ]
  },
  {
   "cell_type": "code",
   "execution_count": 58,
   "metadata": {},
   "outputs": [],
   "source": [
    "import pandas as pd\n",
    "import numpy as np\n",
    "import matplotlib.pyplot as plt\n",
    "import seaborn as sns\n",
    "\n",
    "import httpimport\n",
    "import joblib\n",
    "\n",
    "from pathlib import Path\n",
    "from sklearn.metrics import confusion_matrix, accuracy_score\n",
    "from sklearn.model_selection import train_test_split, cross_val_score\n",
    "from sklearn.preprocessing import StandardScaler"
   ]
  },
  {
   "cell_type": "code",
   "execution_count": 84,
   "metadata": {},
   "outputs": [],
   "source": [
    "# Import personal library\n",
    "with httpimport.github_repo(\"junclemente\", \"jcds\", ref=\"master\"):\n",
    "    import jcds.metrics as jm\n",
    "    import jcds.charts as jc"
   ]
  },
  {
   "cell_type": "code",
   "execution_count": 33,
   "metadata": {},
   "outputs": [
    {
     "data": {
      "text/html": [
       "<div>\n",
       "<style scoped>\n",
       "    .dataframe tbody tr th:only-of-type {\n",
       "        vertical-align: middle;\n",
       "    }\n",
       "\n",
       "    .dataframe tbody tr th {\n",
       "        vertical-align: top;\n",
       "    }\n",
       "\n",
       "    .dataframe thead th {\n",
       "        text-align: right;\n",
       "    }\n",
       "</style>\n",
       "<table border=\"1\" class=\"dataframe\">\n",
       "  <thead>\n",
       "    <tr style=\"text-align: right;\">\n",
       "      <th></th>\n",
       "      <th>Undergrad_Degree</th>\n",
       "      <th>Work_Experience</th>\n",
       "      <th>Employability_Before</th>\n",
       "      <th>Status</th>\n",
       "      <th>Status_enc</th>\n",
       "    </tr>\n",
       "  </thead>\n",
       "  <tbody>\n",
       "    <tr>\n",
       "      <th>0</th>\n",
       "      <td>Business</td>\n",
       "      <td>No</td>\n",
       "      <td>252.0</td>\n",
       "      <td>Placed</td>\n",
       "      <td>1</td>\n",
       "    </tr>\n",
       "    <tr>\n",
       "      <th>1</th>\n",
       "      <td>Business</td>\n",
       "      <td>No</td>\n",
       "      <td>423.0</td>\n",
       "      <td>Not Placed</td>\n",
       "      <td>0</td>\n",
       "    </tr>\n",
       "    <tr>\n",
       "      <th>2</th>\n",
       "      <td>Computer Science</td>\n",
       "      <td>Yes</td>\n",
       "      <td>101.0</td>\n",
       "      <td>Placed</td>\n",
       "      <td>1</td>\n",
       "    </tr>\n",
       "    <tr>\n",
       "      <th>3</th>\n",
       "      <td>Engineering</td>\n",
       "      <td>No</td>\n",
       "      <td>288.0</td>\n",
       "      <td>Not Placed</td>\n",
       "      <td>0</td>\n",
       "    </tr>\n",
       "    <tr>\n",
       "      <th>4</th>\n",
       "      <td>Finance</td>\n",
       "      <td>No</td>\n",
       "      <td>248.0</td>\n",
       "      <td>Not Placed</td>\n",
       "      <td>0</td>\n",
       "    </tr>\n",
       "  </tbody>\n",
       "</table>\n",
       "</div>"
      ],
      "text/plain": [
       "   Undergrad_Degree Work_Experience  Employability_Before      Status  \\\n",
       "0          Business              No                 252.0      Placed   \n",
       "1          Business              No                 423.0  Not Placed   \n",
       "2  Computer Science             Yes                 101.0      Placed   \n",
       "3       Engineering              No                 288.0  Not Placed   \n",
       "4           Finance              No                 248.0  Not Placed   \n",
       "\n",
       "   Status_enc  \n",
       "0           1  \n",
       "1           0  \n",
       "2           1  \n",
       "3           0  \n",
       "4           0  "
      ]
     },
     "metadata": {},
     "output_type": "display_data"
    }
   ],
   "source": [
    "# Import datasets\n",
    "datasets = Path(\"../datasets\")\n",
    "df = pd.read_csv(datasets / \"school_final_dataset.csv\")\n",
    "display(df.head())"
   ]
  },
  {
   "cell_type": "markdown",
   "metadata": {},
   "source": [
    "## Setup Testing and Validation Dataframes"
   ]
  },
  {
   "cell_type": "code",
   "execution_count": 34,
   "metadata": {},
   "outputs": [],
   "source": [
    "# Variables to use for predictive modeling\n",
    "variables = [\"Undergrad_Degree\", \"Work_Experience\", \"Employability_Before\"]\n",
    "target = \"Status_enc\""
   ]
  },
  {
   "cell_type": "code",
   "execution_count": 71,
   "metadata": {},
   "outputs": [
    {
     "data": {
      "text/html": [
       "<div>\n",
       "<style scoped>\n",
       "    .dataframe tbody tr th:only-of-type {\n",
       "        vertical-align: middle;\n",
       "    }\n",
       "\n",
       "    .dataframe tbody tr th {\n",
       "        vertical-align: top;\n",
       "    }\n",
       "\n",
       "    .dataframe thead th {\n",
       "        text-align: right;\n",
       "    }\n",
       "</style>\n",
       "<table border=\"1\" class=\"dataframe\">\n",
       "  <thead>\n",
       "    <tr style=\"text-align: right;\">\n",
       "      <th></th>\n",
       "      <th>Employability_Before</th>\n",
       "      <th>Undergrad_Degree_Business</th>\n",
       "      <th>Undergrad_Degree_Computer Science</th>\n",
       "      <th>Undergrad_Degree_Engineering</th>\n",
       "      <th>Undergrad_Degree_Finance</th>\n",
       "      <th>Work_Experience_Yes</th>\n",
       "    </tr>\n",
       "  </thead>\n",
       "  <tbody>\n",
       "    <tr>\n",
       "      <th>0</th>\n",
       "      <td>252.0</td>\n",
       "      <td>True</td>\n",
       "      <td>False</td>\n",
       "      <td>False</td>\n",
       "      <td>False</td>\n",
       "      <td>False</td>\n",
       "    </tr>\n",
       "    <tr>\n",
       "      <th>1</th>\n",
       "      <td>423.0</td>\n",
       "      <td>True</td>\n",
       "      <td>False</td>\n",
       "      <td>False</td>\n",
       "      <td>False</td>\n",
       "      <td>False</td>\n",
       "    </tr>\n",
       "    <tr>\n",
       "      <th>2</th>\n",
       "      <td>101.0</td>\n",
       "      <td>False</td>\n",
       "      <td>True</td>\n",
       "      <td>False</td>\n",
       "      <td>False</td>\n",
       "      <td>True</td>\n",
       "    </tr>\n",
       "    <tr>\n",
       "      <th>3</th>\n",
       "      <td>288.0</td>\n",
       "      <td>False</td>\n",
       "      <td>False</td>\n",
       "      <td>True</td>\n",
       "      <td>False</td>\n",
       "      <td>False</td>\n",
       "    </tr>\n",
       "    <tr>\n",
       "      <th>4</th>\n",
       "      <td>248.0</td>\n",
       "      <td>False</td>\n",
       "      <td>False</td>\n",
       "      <td>False</td>\n",
       "      <td>True</td>\n",
       "      <td>False</td>\n",
       "    </tr>\n",
       "  </tbody>\n",
       "</table>\n",
       "</div>"
      ],
      "text/plain": [
       "   Employability_Before  Undergrad_Degree_Business  \\\n",
       "0                 252.0                       True   \n",
       "1                 423.0                       True   \n",
       "2                 101.0                      False   \n",
       "3                 288.0                      False   \n",
       "4                 248.0                      False   \n",
       "\n",
       "   Undergrad_Degree_Computer Science  Undergrad_Degree_Engineering  \\\n",
       "0                              False                         False   \n",
       "1                              False                         False   \n",
       "2                               True                         False   \n",
       "3                              False                          True   \n",
       "4                              False                         False   \n",
       "\n",
       "   Undergrad_Degree_Finance  Work_Experience_Yes  \n",
       "0                     False                False  \n",
       "1                     False                False  \n",
       "2                     False                 True  \n",
       "3                     False                False  \n",
       "4                      True                False  "
      ]
     },
     "metadata": {},
     "output_type": "display_data"
    },
    {
     "data": {
      "text/html": [
       "<div>\n",
       "<style scoped>\n",
       "    .dataframe tbody tr th:only-of-type {\n",
       "        vertical-align: middle;\n",
       "    }\n",
       "\n",
       "    .dataframe tbody tr th {\n",
       "        vertical-align: top;\n",
       "    }\n",
       "\n",
       "    .dataframe thead th {\n",
       "        text-align: right;\n",
       "    }\n",
       "</style>\n",
       "<table border=\"1\" class=\"dataframe\">\n",
       "  <thead>\n",
       "    <tr style=\"text-align: right;\">\n",
       "      <th></th>\n",
       "      <th>Employability_Before</th>\n",
       "      <th>Undergrad_Degree_Business</th>\n",
       "      <th>Undergrad_Degree_Computer Science</th>\n",
       "      <th>Undergrad_Degree_Engineering</th>\n",
       "      <th>Undergrad_Degree_Finance</th>\n",
       "      <th>Work_Experience_Yes</th>\n",
       "    </tr>\n",
       "  </thead>\n",
       "  <tbody>\n",
       "    <tr>\n",
       "      <th>0</th>\n",
       "      <td>0.987385</td>\n",
       "      <td>True</td>\n",
       "      <td>False</td>\n",
       "      <td>False</td>\n",
       "      <td>False</td>\n",
       "      <td>False</td>\n",
       "    </tr>\n",
       "    <tr>\n",
       "      <th>1</th>\n",
       "      <td>5.717070</td>\n",
       "      <td>True</td>\n",
       "      <td>False</td>\n",
       "      <td>False</td>\n",
       "      <td>False</td>\n",
       "      <td>False</td>\n",
       "    </tr>\n",
       "    <tr>\n",
       "      <th>2</th>\n",
       "      <td>-3.189121</td>\n",
       "      <td>False</td>\n",
       "      <td>True</td>\n",
       "      <td>False</td>\n",
       "      <td>False</td>\n",
       "      <td>True</td>\n",
       "    </tr>\n",
       "    <tr>\n",
       "      <th>3</th>\n",
       "      <td>1.983108</td>\n",
       "      <td>False</td>\n",
       "      <td>False</td>\n",
       "      <td>True</td>\n",
       "      <td>False</td>\n",
       "      <td>False</td>\n",
       "    </tr>\n",
       "    <tr>\n",
       "      <th>4</th>\n",
       "      <td>0.876749</td>\n",
       "      <td>False</td>\n",
       "      <td>False</td>\n",
       "      <td>False</td>\n",
       "      <td>True</td>\n",
       "      <td>False</td>\n",
       "    </tr>\n",
       "  </tbody>\n",
       "</table>\n",
       "</div>"
      ],
      "text/plain": [
       "   Employability_Before  Undergrad_Degree_Business  \\\n",
       "0              0.987385                       True   \n",
       "1              5.717070                       True   \n",
       "2             -3.189121                      False   \n",
       "3              1.983108                      False   \n",
       "4              0.876749                      False   \n",
       "\n",
       "   Undergrad_Degree_Computer Science  Undergrad_Degree_Engineering  \\\n",
       "0                              False                         False   \n",
       "1                              False                         False   \n",
       "2                               True                         False   \n",
       "3                              False                          True   \n",
       "4                              False                         False   \n",
       "\n",
       "   Undergrad_Degree_Finance  Work_Experience_Yes  \n",
       "0                     False                False  \n",
       "1                     False                False  \n",
       "2                     False                 True  \n",
       "3                     False                False  \n",
       "4                      True                False  "
      ]
     },
     "metadata": {},
     "output_type": "display_data"
    }
   ],
   "source": [
    "# Setup train and val dataframes\n",
    "X = df[variables]\n",
    "y = df[target]\n",
    "\n",
    "X_train, X_val, y_train, y_val = train_test_split(X, y, test_size=0.4, random_state=42)\n",
    "\n",
    "# # One-hot encode categorical variables\n",
    "X_enc = pd.get_dummies(X, drop_first=True)\n",
    "X_train = pd.get_dummies(X_train, drop_first=True)\n",
    "X_val = pd.get_dummies(X_val, drop_first=True)\n",
    "\n",
    "# # Standardize cont  / Initialize scaler\n",
    "scaler = StandardScaler()\n",
    "std_cols = [\"Employability_Before\"]\n",
    "\n",
    "Xs_enc = X_enc.copy()\n",
    "Xs_enc[std_cols] = scaler.fit_transform(Xs_enc[std_cols])\n",
    "\n",
    "Xs_train = X_train.copy()\n",
    "Xs_train[std_cols] = scaler.transform(Xs_train[std_cols])\n",
    "\n",
    "Xs_val = X_val.copy()\n",
    "Xs_val[std_cols] = scaler.transform(Xs_val[std_cols])\n",
    "\n",
    "display(X_enc.head())\n",
    "display(Xs_enc.head())"
   ]
  },
  {
   "cell_type": "markdown",
   "metadata": {},
   "source": [
    "## Import Predictive Models"
   ]
  },
  {
   "cell_type": "code",
   "execution_count": 65,
   "metadata": {},
   "outputs": [],
   "source": [
    "models = Path(\"../models\")\n",
    "dt_model = joblib.load(models / \"decision_tree_model.pkl\")\n",
    "knn_model = joblib.load(models / \"k_nearest_neighbor_model.pkl\")\n",
    "lr_model = joblib.load(models / \"logistic_regression_model.pkl\")"
   ]
  },
  {
   "cell_type": "code",
   "execution_count": 66,
   "metadata": {},
   "outputs": [
    {
     "name": "stdout",
     "output_type": "stream",
     "text": [
      "Confusion Matrix:\n",
      "[[186  10]\n",
      " [ 10 274]]\n"
     ]
    },
    {
     "data": {
      "text/html": [
       "<div>\n",
       "<style scoped>\n",
       "    .dataframe tbody tr th:only-of-type {\n",
       "        vertical-align: middle;\n",
       "    }\n",
       "\n",
       "    .dataframe tbody tr th {\n",
       "        vertical-align: top;\n",
       "    }\n",
       "\n",
       "    .dataframe thead th {\n",
       "        text-align: right;\n",
       "    }\n",
       "</style>\n",
       "<table border=\"1\" class=\"dataframe\">\n",
       "  <thead>\n",
       "    <tr style=\"text-align: right;\">\n",
       "      <th></th>\n",
       "      <th>Class 0</th>\n",
       "      <th>Class 1</th>\n",
       "    </tr>\n",
       "  </thead>\n",
       "  <tbody>\n",
       "    <tr>\n",
       "      <th>Accuracy</th>\n",
       "      <td>0.95833</td>\n",
       "      <td>0.95833</td>\n",
       "    </tr>\n",
       "    <tr>\n",
       "      <th>Error rate</th>\n",
       "      <td>0.04167</td>\n",
       "      <td>0.04167</td>\n",
       "    </tr>\n",
       "    <tr>\n",
       "      <th>Sensitivity (Recall)</th>\n",
       "      <td>0.94898</td>\n",
       "      <td>0.96479</td>\n",
       "    </tr>\n",
       "    <tr>\n",
       "      <th>Specificity</th>\n",
       "      <td>0.96479</td>\n",
       "      <td>0.94898</td>\n",
       "    </tr>\n",
       "    <tr>\n",
       "      <th>Precision</th>\n",
       "      <td>0.94898</td>\n",
       "      <td>0.96479</td>\n",
       "    </tr>\n",
       "    <tr>\n",
       "      <th>F1</th>\n",
       "      <td>0.94898</td>\n",
       "      <td>0.96479</td>\n",
       "    </tr>\n",
       "    <tr>\n",
       "      <th>F2</th>\n",
       "      <td>0.94898</td>\n",
       "      <td>0.96479</td>\n",
       "    </tr>\n",
       "    <tr>\n",
       "      <th>F0.5</th>\n",
       "      <td>0.94898</td>\n",
       "      <td>0.96479</td>\n",
       "    </tr>\n",
       "  </tbody>\n",
       "</table>\n",
       "</div>"
      ],
      "text/plain": [
       "                      Class 0  Class 1\n",
       "Accuracy              0.95833  0.95833\n",
       "Error rate            0.04167  0.04167\n",
       "Sensitivity (Recall)  0.94898  0.96479\n",
       "Specificity           0.96479  0.94898\n",
       "Precision             0.94898  0.96479\n",
       "F1                    0.94898  0.96479\n",
       "F2                    0.94898  0.96479\n",
       "F0.5                  0.94898  0.96479"
      ]
     },
     "execution_count": 66,
     "metadata": {},
     "output_type": "execute_result"
    }
   ],
   "source": [
    "dt_model.fit(X_train, y_train)\n",
    "dty_pred = dt_model.predict(X_val)\n",
    "cm = confusion_matrix(y_val, dty_pred)\n",
    "jm.mc_confusion(cm)"
   ]
  },
  {
   "cell_type": "code",
   "execution_count": 67,
   "metadata": {},
   "outputs": [
    {
     "name": "stdout",
     "output_type": "stream",
     "text": [
      "Confusion Matrix:\n",
      "[[181  15]\n",
      " [ 31 253]]\n"
     ]
    },
    {
     "data": {
      "text/html": [
       "<div>\n",
       "<style scoped>\n",
       "    .dataframe tbody tr th:only-of-type {\n",
       "        vertical-align: middle;\n",
       "    }\n",
       "\n",
       "    .dataframe tbody tr th {\n",
       "        vertical-align: top;\n",
       "    }\n",
       "\n",
       "    .dataframe thead th {\n",
       "        text-align: right;\n",
       "    }\n",
       "</style>\n",
       "<table border=\"1\" class=\"dataframe\">\n",
       "  <thead>\n",
       "    <tr style=\"text-align: right;\">\n",
       "      <th></th>\n",
       "      <th>Class 0</th>\n",
       "      <th>Class 1</th>\n",
       "    </tr>\n",
       "  </thead>\n",
       "  <tbody>\n",
       "    <tr>\n",
       "      <th>Accuracy</th>\n",
       "      <td>0.90417</td>\n",
       "      <td>0.90417</td>\n",
       "    </tr>\n",
       "    <tr>\n",
       "      <th>Error rate</th>\n",
       "      <td>0.09583</td>\n",
       "      <td>0.09583</td>\n",
       "    </tr>\n",
       "    <tr>\n",
       "      <th>Sensitivity (Recall)</th>\n",
       "      <td>0.92347</td>\n",
       "      <td>0.89085</td>\n",
       "    </tr>\n",
       "    <tr>\n",
       "      <th>Specificity</th>\n",
       "      <td>0.89085</td>\n",
       "      <td>0.92347</td>\n",
       "    </tr>\n",
       "    <tr>\n",
       "      <th>Precision</th>\n",
       "      <td>0.85377</td>\n",
       "      <td>0.94403</td>\n",
       "    </tr>\n",
       "    <tr>\n",
       "      <th>F1</th>\n",
       "      <td>0.88725</td>\n",
       "      <td>0.91667</td>\n",
       "    </tr>\n",
       "    <tr>\n",
       "      <th>F2</th>\n",
       "      <td>0.90863</td>\n",
       "      <td>0.90100</td>\n",
       "    </tr>\n",
       "    <tr>\n",
       "      <th>F0.5</th>\n",
       "      <td>0.86686</td>\n",
       "      <td>0.93289</td>\n",
       "    </tr>\n",
       "  </tbody>\n",
       "</table>\n",
       "</div>"
      ],
      "text/plain": [
       "                      Class 0  Class 1\n",
       "Accuracy              0.90417  0.90417\n",
       "Error rate            0.09583  0.09583\n",
       "Sensitivity (Recall)  0.92347  0.89085\n",
       "Specificity           0.89085  0.92347\n",
       "Precision             0.85377  0.94403\n",
       "F1                    0.88725  0.91667\n",
       "F2                    0.90863  0.90100\n",
       "F0.5                  0.86686  0.93289"
      ]
     },
     "execution_count": 67,
     "metadata": {},
     "output_type": "execute_result"
    }
   ],
   "source": [
    "knn_model.fit(Xs_train, y_train)\n",
    "knny_pred = knn_model.predict(Xs_val)\n",
    "cm = confusion_matrix(y_val, knny_pred)\n",
    "jm.mc_confusion(cm)"
   ]
  },
  {
   "cell_type": "code",
   "execution_count": 68,
   "metadata": {},
   "outputs": [
    {
     "name": "stdout",
     "output_type": "stream",
     "text": [
      "Confusion Matrix:\n",
      "[[184  12]\n",
      " [  5 279]]\n"
     ]
    },
    {
     "data": {
      "text/html": [
       "<div>\n",
       "<style scoped>\n",
       "    .dataframe tbody tr th:only-of-type {\n",
       "        vertical-align: middle;\n",
       "    }\n",
       "\n",
       "    .dataframe tbody tr th {\n",
       "        vertical-align: top;\n",
       "    }\n",
       "\n",
       "    .dataframe thead th {\n",
       "        text-align: right;\n",
       "    }\n",
       "</style>\n",
       "<table border=\"1\" class=\"dataframe\">\n",
       "  <thead>\n",
       "    <tr style=\"text-align: right;\">\n",
       "      <th></th>\n",
       "      <th>Class 0</th>\n",
       "      <th>Class 1</th>\n",
       "    </tr>\n",
       "  </thead>\n",
       "  <tbody>\n",
       "    <tr>\n",
       "      <th>Accuracy</th>\n",
       "      <td>0.96458</td>\n",
       "      <td>0.96458</td>\n",
       "    </tr>\n",
       "    <tr>\n",
       "      <th>Error rate</th>\n",
       "      <td>0.03542</td>\n",
       "      <td>0.03542</td>\n",
       "    </tr>\n",
       "    <tr>\n",
       "      <th>Sensitivity (Recall)</th>\n",
       "      <td>0.93878</td>\n",
       "      <td>0.98239</td>\n",
       "    </tr>\n",
       "    <tr>\n",
       "      <th>Specificity</th>\n",
       "      <td>0.98239</td>\n",
       "      <td>0.93878</td>\n",
       "    </tr>\n",
       "    <tr>\n",
       "      <th>Precision</th>\n",
       "      <td>0.97354</td>\n",
       "      <td>0.95876</td>\n",
       "    </tr>\n",
       "    <tr>\n",
       "      <th>F1</th>\n",
       "      <td>0.95584</td>\n",
       "      <td>0.97043</td>\n",
       "    </tr>\n",
       "    <tr>\n",
       "      <th>F2</th>\n",
       "      <td>0.94553</td>\n",
       "      <td>0.97758</td>\n",
       "    </tr>\n",
       "    <tr>\n",
       "      <th>F0.5</th>\n",
       "      <td>0.96639</td>\n",
       "      <td>0.96340</td>\n",
       "    </tr>\n",
       "  </tbody>\n",
       "</table>\n",
       "</div>"
      ],
      "text/plain": [
       "                      Class 0  Class 1\n",
       "Accuracy              0.96458  0.96458\n",
       "Error rate            0.03542  0.03542\n",
       "Sensitivity (Recall)  0.93878  0.98239\n",
       "Specificity           0.98239  0.93878\n",
       "Precision             0.97354  0.95876\n",
       "F1                    0.95584  0.97043\n",
       "F2                    0.94553  0.97758\n",
       "F0.5                  0.96639  0.96340"
      ]
     },
     "execution_count": 68,
     "metadata": {},
     "output_type": "execute_result"
    }
   ],
   "source": [
    "lr_model.fit(Xs_train, y_train)\n",
    "lry_pred = lr_model.predict(Xs_val)\n",
    "cm = confusion_matrix(y_val, lry_pred)\n",
    "jm.mc_confusion(cm)"
   ]
  },
  {
   "cell_type": "markdown",
   "metadata": {},
   "source": [
    "| Metric | Decision Tree | K-Nearest Neighbor | Logistic Regression |\n",
    "|--------|:-------------:|:------------------:|:-------------------:|\n",
    "| Accuracy | 0.96 | 0.96 | 0.96 |\n",
    "| F1 Score | 0.96 | 0.97 | 0.97 |\n",
    "| Precision | 0.96 | 0.95 | 0.96 | \n",
    "| Recall | 0.96 | 0.98 | 0.98 | "
   ]
  },
  {
   "cell_type": "code",
   "execution_count": 83,
   "metadata": {},
   "outputs": [
    {
     "data": {
      "image/png": "[encoded data removed]",
      "text/plain": [
       "<Figure size 640x480 with 1 Axes>"
      ]
     },
     "metadata": {},
     "output_type": "display_data"
    },
    {
     "data": {
      "image/png": "[encoded data removed]",
      "text/plain": [
       "<Figure size 640x480 with 1 Axes>"
      ]
     },
     "metadata": {},
     "output_type": "display_data"
    },
    {
     "data": {
      "image/png": "[encoded data removed]",
      "text/plain": [
       "<Figure size 640x480 with 1 Axes>"
      ]
     },
     "metadata": {},
     "output_type": "display_data"
    },
    {
     "data": {
      "image/png": "[encoded data removed]",
      "text/plain": [
       "<Figure size 640x480 with 1 Axes>"
      ]
     },
     "metadata": {},
     "output_type": "display_data"
    },
    {
     "data": {
      "image/png": "[encoded data removed]",
      "text/plain": [
       "<Figure size 640x480 with 1 Axes>"
      ]
     },
     "metadata": {},
     "output_type": "display_data"
    }
   ],
   "source": [
    "k_folds = 5\n",
    "\n",
    "for k_folds in range(2, 11, 2):\n",
    "    dt_accuracy = cross_val_score(dt_model, Xs_enc, y, cv=k_folds, scoring=\"accuracy\")\n",
    "    knn_accuracy = cross_val_score(knn_model, Xs_enc, y, cv=k_folds, scoring=\"accuracy\")\n",
    "    lr_accuracy = cross_val_score(lr_model, Xs_enc, y, cv=k_folds, scoring=\"accuracy\")\n",
    "    models = [\"Decision Tree\", \"KNN\", \"Logistic Regression\"]\n",
    "    scores = [dt_accuracy, knn_accuracy, lr_accuracy]\n",
    "\n",
    "    plt.boxplot(scores, labels=models)\n",
    "    plt.title(f\"Model Comparison (Accuracy) k_folds={k_folds}\")\n",
    "    plt.show()"
   ]
  },
  {
   "cell_type": "code",
   "execution_count": null,
   "metadata": {},
   "outputs": [],
   "source": []
  }
 ],
 "metadata": {
  "kernelspec": {
   "display_name": "ads505fp",
   "language": "python",
   "name": "python3"
  },
  "language_info": {
   "codemirror_mode": {
    "name": "ipython",
    "version": 3
   },
   "file_extension": ".py",
   "mimetype": "text/x-python",
   "name": "python",
   "nbconvert_exporter": "python",
   "pygments_lexer": "ipython3",
   "version": "3.8.20"
  }
 },
 "nbformat": 4,
 "nbformat_minor": 2
}
