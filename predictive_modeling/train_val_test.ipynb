{
 "cells": [
  {
   "cell_type": "markdown",
   "metadata": {},
   "source": [
    "# Training, Validation, and Tesing Datasets"
   ]
  },
  {
   "cell_type": "code",
   "execution_count": 17,
   "metadata": {},
   "outputs": [],
   "source": [
    "import pandas as pd\n",
    "\n",
    "from pathlib import Path\n",
    "from sklearn.model_selection import train_test_split"
   ]
  },
  {
   "cell_type": "markdown",
   "metadata": {},
   "source": [
    "## Import Final Dataset"
   ]
  },
  {
   "cell_type": "code",
   "execution_count": 19,
   "metadata": {},
   "outputs": [
    {
     "data": {
      "text/html": [
       "<div>\n",
       "<style scoped>\n",
       "    .dataframe tbody tr th:only-of-type {\n",
       "        vertical-align: middle;\n",
       "    }\n",
       "\n",
       "    .dataframe tbody tr th {\n",
       "        vertical-align: top;\n",
       "    }\n",
       "\n",
       "    .dataframe thead th {\n",
       "        text-align: right;\n",
       "    }\n",
       "</style>\n",
       "<table border=\"1\" class=\"dataframe\">\n",
       "  <thead>\n",
       "    <tr style=\"text-align: right;\">\n",
       "      <th></th>\n",
       "      <th>Undergrad_Degree</th>\n",
       "      <th>Work_Experience</th>\n",
       "      <th>Employability_Before</th>\n",
       "      <th>Status</th>\n",
       "      <th>Status_enc</th>\n",
       "    </tr>\n",
       "  </thead>\n",
       "  <tbody>\n",
       "    <tr>\n",
       "      <th>0</th>\n",
       "      <td>Business</td>\n",
       "      <td>No</td>\n",
       "      <td>252.0</td>\n",
       "      <td>Placed</td>\n",
       "      <td>1</td>\n",
       "    </tr>\n",
       "    <tr>\n",
       "      <th>1</th>\n",
       "      <td>Business</td>\n",
       "      <td>No</td>\n",
       "      <td>423.0</td>\n",
       "      <td>Not Placed</td>\n",
       "      <td>0</td>\n",
       "    </tr>\n",
       "    <tr>\n",
       "      <th>2</th>\n",
       "      <td>Computer Science</td>\n",
       "      <td>Yes</td>\n",
       "      <td>101.0</td>\n",
       "      <td>Placed</td>\n",
       "      <td>1</td>\n",
       "    </tr>\n",
       "    <tr>\n",
       "      <th>3</th>\n",
       "      <td>Engineering</td>\n",
       "      <td>No</td>\n",
       "      <td>288.0</td>\n",
       "      <td>Not Placed</td>\n",
       "      <td>0</td>\n",
       "    </tr>\n",
       "    <tr>\n",
       "      <th>4</th>\n",
       "      <td>Finance</td>\n",
       "      <td>No</td>\n",
       "      <td>248.0</td>\n",
       "      <td>Not Placed</td>\n",
       "      <td>0</td>\n",
       "    </tr>\n",
       "  </tbody>\n",
       "</table>\n",
       "</div>"
      ],
      "text/plain": [
       "   Undergrad_Degree Work_Experience  Employability_Before      Status  \\\n",
       "0          Business              No                 252.0      Placed   \n",
       "1          Business              No                 423.0  Not Placed   \n",
       "2  Computer Science             Yes                 101.0      Placed   \n",
       "3       Engineering              No                 288.0  Not Placed   \n",
       "4           Finance              No                 248.0  Not Placed   \n",
       "\n",
       "   Status_enc  \n",
       "0           1  \n",
       "1           0  \n",
       "2           1  \n",
       "3           0  \n",
       "4           0  "
      ]
     },
     "execution_count": 19,
     "metadata": {},
     "output_type": "execute_result"
    }
   ],
   "source": [
    "# Import final dataset\n",
    "datasets = Path(\"../datasets\")\n",
    "df = pd.read_csv(datasets / \"school_final_dataset.csv\")\n",
    "df.head()"
   ]
  },
  {
   "cell_type": "markdown",
   "metadata": {},
   "source": [
    "## Split Dataset"
   ]
  },
  {
   "cell_type": "code",
   "execution_count": 21,
   "metadata": {},
   "outputs": [
    {
     "name": "stdout",
     "output_type": "stream",
     "text": [
      "Training dataset: 576\n",
      "Validation dataset: 384\n",
      "Testing dataset: 240\n"
     ]
    }
   ],
   "source": [
    "# Split dataset for 20% test_data\n",
    "train_val_data, test_data = train_test_split(df, test_size=0.2, random_state=42)\n",
    "# Split remaining dataset into 60% training and 40% validation\n",
    "train_data, val_data = train_test_split(train_val_data, test_size=0.4, random_state=42)\n",
    "\n",
    "print(f\"Training dataset: {train_data.shape[0]}\")\n",
    "print(f\"Validation dataset: {val_data.shape[0]}\")\n",
    "print(f\"Testing dataset: {test_data.shape[0]}\")"
   ]
  },
  {
   "cell_type": "markdown",
   "metadata": {},
   "source": [
    "## Export and Save Datasets"
   ]
  },
  {
   "cell_type": "code",
   "execution_count": 16,
   "metadata": {},
   "outputs": [],
   "source": [
    "train_data.to_csv(datasets / \"training_data.csv\", index=False)\n",
    "val_data.to_csv(datasets / \"validation_data.csv\", index=False)\n",
    "test_data.to_csv(datasets / \"testing_data.csv\", index=False)"
   ]
  },
  {
   "cell_type": "code",
   "execution_count": null,
   "metadata": {},
   "outputs": [],
   "source": []
  }
 ],
 "metadata": {
  "kernelspec": {
   "display_name": "ads505fp",
   "language": "python",
   "name": "python3"
  },
  "language_info": {
   "codemirror_mode": {
    "name": "ipython",
    "version": 3
   },
   "file_extension": ".py",
   "mimetype": "text/x-python",
   "name": "python",
   "nbconvert_exporter": "python",
   "pygments_lexer": "ipython3",
   "version": "3.8.20"
  }
 },
 "nbformat": 4,
 "nbformat_minor": 2
}
