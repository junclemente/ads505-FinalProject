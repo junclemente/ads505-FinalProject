{
 "cells": [
  {
   "cell_type": "code",
   "execution_count": 1,
   "metadata": {},
   "outputs": [],
   "source": [
    "import pandas as pd\n",
    "import numpy as np\n",
    "\n",
    "import httpimport \n",
    "\n",
    "from pathlib import Path "
   ]
  },
  {
   "cell_type": "code",
   "execution_count": 2,
   "metadata": {},
   "outputs": [],
   "source": [
    "# Import personal library\n",
    "with httpimport.github_repo('junclemente', 'jcds', ref='master'):\n",
    "    import jcds.Quality as jq"
   ]
  },
  {
   "cell_type": "code",
   "execution_count": 3,
   "metadata": {},
   "outputs": [
    {
     "data": {
      "text/html": [
       "<div>\n",
       "<style scoped>\n",
       "    .dataframe tbody tr th:only-of-type {\n",
       "        vertical-align: middle;\n",
       "    }\n",
       "\n",
       "    .dataframe tbody tr th {\n",
       "        vertical-align: top;\n",
       "    }\n",
       "\n",
       "    .dataframe thead th {\n",
       "        text-align: right;\n",
       "    }\n",
       "</style>\n",
       "<table border=\"1\" class=\"dataframe\">\n",
       "  <thead>\n",
       "    <tr style=\"text-align: right;\">\n",
       "      <th></th>\n",
       "      <th>Student ID</th>\n",
       "      <th>Undergrad Degree</th>\n",
       "      <th>Undergrad Grade</th>\n",
       "      <th>MBA Grade</th>\n",
       "      <th>Work Experience</th>\n",
       "      <th>Employability (Before)</th>\n",
       "      <th>Employability (After)</th>\n",
       "      <th>Status</th>\n",
       "      <th>Annual Salary</th>\n",
       "    </tr>\n",
       "  </thead>\n",
       "  <tbody>\n",
       "    <tr>\n",
       "      <th>0</th>\n",
       "      <td>1</td>\n",
       "      <td>Business</td>\n",
       "      <td>68.4</td>\n",
       "      <td>90.2</td>\n",
       "      <td>No</td>\n",
       "      <td>252.0</td>\n",
       "      <td>276.0</td>\n",
       "      <td>Placed</td>\n",
       "      <td>111000.0</td>\n",
       "    </tr>\n",
       "    <tr>\n",
       "      <th>1</th>\n",
       "      <td>2</td>\n",
       "      <td>Business</td>\n",
       "      <td>62.1</td>\n",
       "      <td>92.8</td>\n",
       "      <td>No</td>\n",
       "      <td>423.0</td>\n",
       "      <td>410.0</td>\n",
       "      <td>Not Placed</td>\n",
       "      <td>NaN</td>\n",
       "    </tr>\n",
       "    <tr>\n",
       "      <th>2</th>\n",
       "      <td>3</td>\n",
       "      <td>Computer Science</td>\n",
       "      <td>70.2</td>\n",
       "      <td>68.7</td>\n",
       "      <td>Yes</td>\n",
       "      <td>101.0</td>\n",
       "      <td>119.0</td>\n",
       "      <td>Placed</td>\n",
       "      <td>107000.0</td>\n",
       "    </tr>\n",
       "    <tr>\n",
       "      <th>3</th>\n",
       "      <td>4</td>\n",
       "      <td>Engineering</td>\n",
       "      <td>75.1</td>\n",
       "      <td>80.7</td>\n",
       "      <td>No</td>\n",
       "      <td>288.0</td>\n",
       "      <td>334.0</td>\n",
       "      <td>Not Placed</td>\n",
       "      <td>NaN</td>\n",
       "    </tr>\n",
       "    <tr>\n",
       "      <th>4</th>\n",
       "      <td>5</td>\n",
       "      <td>Finance</td>\n",
       "      <td>60.9</td>\n",
       "      <td>74.9</td>\n",
       "      <td>No</td>\n",
       "      <td>248.0</td>\n",
       "      <td>252.0</td>\n",
       "      <td>Not Placed</td>\n",
       "      <td>NaN</td>\n",
       "    </tr>\n",
       "  </tbody>\n",
       "</table>\n",
       "</div>"
      ],
      "text/plain": [
       "   Student ID  Undergrad Degree  Undergrad Grade  MBA Grade Work Experience  \\\n",
       "0           1          Business             68.4       90.2              No   \n",
       "1           2          Business             62.1       92.8              No   \n",
       "2           3  Computer Science             70.2       68.7             Yes   \n",
       "3           4       Engineering             75.1       80.7              No   \n",
       "4           5           Finance             60.9       74.9              No   \n",
       "\n",
       "   Employability (Before)  Employability (After)      Status  Annual Salary  \n",
       "0                   252.0                  276.0      Placed       111000.0  \n",
       "1                   423.0                  410.0  Not Placed            NaN  \n",
       "2                   101.0                  119.0      Placed       107000.0  \n",
       "3                   288.0                  334.0  Not Placed            NaN  \n",
       "4                   248.0                  252.0  Not Placed            NaN  "
      ]
     },
     "execution_count": 3,
     "metadata": {},
     "output_type": "execute_result"
    }
   ],
   "source": [
    "datasets = Path('../datasets/')\n",
    "df_file = 'maven_business_school/MavenBusinessSchool(final).xlsx'\n",
    "df = pd.read_excel(datasets/df_file)\n",
    "df.head()"
   ]
  },
  {
   "cell_type": "code",
   "execution_count": 4,
   "metadata": {},
   "outputs": [
    {
     "name": "stdout",
     "output_type": "stream",
     "text": [
      "============================================\n",
      "Quick Report - info(memory_usage='deep')\n",
      "Total cols: 9\n",
      "Rows missing all values: 0 (0.0%)\n",
      "Total Rows: 1200\n",
      "Cols with missing values: 4 (44.44%)\n",
      "Total missing values in dataset: 4\n",
      "============================================\n",
      "Categorical features: 3\n",
      "- Undergrad Degree: 5 unique values\n",
      "- Work Experience: 2 unique values\n",
      "- Status: 2 unique values\n",
      "============================================\n",
      "Continuous features: 6\n",
      "- Student ID: 1200 unique values\n",
      "- Undergrad Grade: 762 unique values\n",
      "- MBA Grade: 837 unique values\n",
      "- Employability (Before): 1182 unique values\n",
      "- Employability (After): 776 unique values\n",
      "- Annual Salary: 89 unique values\n"
     ]
    }
   ],
   "source": [
    "jq.quick_report(df)"
   ]
  },
  {
   "cell_type": "code",
   "execution_count": 5,
   "metadata": {},
   "outputs": [
    {
     "name": "stdout",
     "output_type": "stream",
     "text": [
      "The categorical features are: \n",
      "['Undergrad Degree', 'Work Experience', 'Status', 'Annual Salary']\n",
      "Data Quality Report for Categorical Features\n",
      "============================================\n",
      "Stats\n",
      "-----\n",
      "            Feature  Count  Missing  % Missing  Cardinality\n",
      "0  Undergrad Degree   1200        0       0.00            5\n",
      "1   Work Experience   1200        0       0.00            2\n",
      "2            Status   1200        0       0.00            2\n",
      "3     Annual Salary    933      267      28.62           70\n",
      "\n",
      "\n",
      "Mode 1\n",
      "------\n",
      "            Feature    Mode 1  Mode 1 Freq.  Mode 1 %\n",
      "0  Undergrad Degree  Business           257     21.42\n",
      "1   Work Experience        No          1066     88.83\n",
      "2            Status    Placed           716     59.67\n",
      "3     Annual Salary                     246     26.37\n",
      "\n",
      "\n",
      "Mode 2\n",
      "------\n",
      "            Feature            Mode 2  Mode 2 Freq.  Mode 2 %\n",
      "0  Undergrad Degree  Computer Science           240     20.00\n",
      "1   Work Experience               Yes           134     11.17\n",
      "2            Status        Not Placed           484     40.33\n",
      "3     Annual Salary            103500            40      4.29\n",
      "\n",
      "\n",
      "Descriptive Stats\n",
      "-----------------\n",
      "                 count unique       top  freq\n",
      "Undergrad Degree  1200      5  Business   257\n",
      "Work Experience   1200      2        No  1066\n",
      "Status            1200      2    Placed   716\n",
      "Annual Salary      933     69             246\n"
     ]
    }
   ],
   "source": [
    "jq.dqr_cat(df)"
   ]
  },
  {
   "cell_type": "code",
   "execution_count": 6,
   "metadata": {},
   "outputs": [
    {
     "name": "stdout",
     "output_type": "stream",
     "text": [
      "The non-categorical features are: \n",
      "['Student ID', 'Undergrad Grade', 'MBA Grade', 'Employability (Before)', 'Employability (After)']\n",
      "Data Quality for Continous Features\n",
      "Total Features: 5\n",
      "                  Feature  Count  Missing  % missing  Cardinality\n",
      "0              Student ID   1200        0       0.00         1200\n",
      "1         Undergrad Grade   1164       36       3.09          762\n",
      "2               MBA Grade   1200        0       0.00          837\n",
      "3  Employability (Before)   1193        7       0.59         1182\n",
      "4   Employability (After)   1195        5       0.42          776\n",
      "\n",
      "\n",
      "Descriptive Stats\n",
      "                         count    mean     std   min     25%     50%     75%  \\\n",
      "Student ID              1200.0  600.50  346.55   1.0  300.75  600.50  900.25   \n",
      "Undergrad Grade         1164.0   56.56   22.31  10.0   39.88   56.91   75.02   \n",
      "MBA Grade               1200.0   52.83   23.49   0.0   35.72   53.20   72.47   \n",
      "Employability (Before)  1193.0  216.31   36.28  62.0  189.96  215.24  239.66   \n",
      "Employability (After)   1195.0  288.08  124.53  62.0  197.86  260.93  349.00   \n",
      "\n",
      "                            max  \n",
      "Student ID              1200.00  \n",
      "Undergrad Grade          100.00  \n",
      "MBA Grade                 96.10  \n",
      "Employability (Before)   423.00  \n",
      "Employability (After)    697.39  \n"
     ]
    }
   ],
   "source": [
    "jq.dqr_cont(df)"
   ]
  },
  {
   "cell_type": "code",
   "execution_count": null,
   "metadata": {},
   "outputs": [],
   "source": []
  }
 ],
 "metadata": {
  "kernelspec": {
   "display_name": "ads505",
   "language": "python",
   "name": "python3"
  },
  "language_info": {
   "codemirror_mode": {
    "name": "ipython",
    "version": 3
   },
   "file_extension": ".py",
   "mimetype": "text/x-python",
   "name": "python",
   "nbconvert_exporter": "python",
   "pygments_lexer": "ipython3",
   "version": "3.8.20"
  }
 },
 "nbformat": 4,
 "nbformat_minor": 2
}
