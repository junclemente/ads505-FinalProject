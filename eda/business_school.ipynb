{
 "cells": [
  {
   "cell_type": "markdown",
   "metadata": {},
   "source": [
    "# Exploratory Data Analysis"
   ]
  },
  {
   "cell_type": "code",
   "execution_count": 2,
   "metadata": {},
   "outputs": [],
   "source": [
    "import pandas as pd\n",
    "import numpy as np\n",
    "import matplotlib.pyplot as plt\n",
    "import seaborn as sns\n",
    "\n",
    "import httpimport\n",
    "\n",
    "from pathlib import Path"
   ]
  },
  {
   "cell_type": "code",
   "execution_count": 3,
   "metadata": {},
   "outputs": [],
   "source": [
    "# Import personal library\n",
    "with httpimport.github_repo(\"junclemente\", \"jcds\", ref=\"master\"):\n",
    "    import jcds.Quality as jq"
   ]
  },
  {
   "cell_type": "code",
   "execution_count": 4,
   "metadata": {},
   "outputs": [
    {
     "data": {
      "text/html": [
       "<div>\n",
       "<style scoped>\n",
       "    .dataframe tbody tr th:only-of-type {\n",
       "        vertical-align: middle;\n",
       "    }\n",
       "\n",
       "    .dataframe tbody tr th {\n",
       "        vertical-align: top;\n",
       "    }\n",
       "\n",
       "    .dataframe thead th {\n",
       "        text-align: right;\n",
       "    }\n",
       "</style>\n",
       "<table border=\"1\" class=\"dataframe\">\n",
       "  <thead>\n",
       "    <tr style=\"text-align: right;\">\n",
       "      <th></th>\n",
       "      <th>Student ID</th>\n",
       "      <th>Undergrad Degree</th>\n",
       "      <th>Undergrad Grade</th>\n",
       "      <th>MBA Grade</th>\n",
       "      <th>Work Experience</th>\n",
       "      <th>Employability (Before)</th>\n",
       "      <th>Employability (After)</th>\n",
       "      <th>Status</th>\n",
       "      <th>Annual Salary</th>\n",
       "    </tr>\n",
       "  </thead>\n",
       "  <tbody>\n",
       "    <tr>\n",
       "      <th>0</th>\n",
       "      <td>1</td>\n",
       "      <td>Business</td>\n",
       "      <td>68.4</td>\n",
       "      <td>90.2</td>\n",
       "      <td>No</td>\n",
       "      <td>252.0</td>\n",
       "      <td>276.0</td>\n",
       "      <td>Placed</td>\n",
       "      <td>111000.0</td>\n",
       "    </tr>\n",
       "    <tr>\n",
       "      <th>1</th>\n",
       "      <td>2</td>\n",
       "      <td>Business</td>\n",
       "      <td>62.1</td>\n",
       "      <td>92.8</td>\n",
       "      <td>No</td>\n",
       "      <td>423.0</td>\n",
       "      <td>410.0</td>\n",
       "      <td>Not Placed</td>\n",
       "      <td>NaN</td>\n",
       "    </tr>\n",
       "    <tr>\n",
       "      <th>2</th>\n",
       "      <td>3</td>\n",
       "      <td>Computer Science</td>\n",
       "      <td>70.2</td>\n",
       "      <td>68.7</td>\n",
       "      <td>Yes</td>\n",
       "      <td>101.0</td>\n",
       "      <td>119.0</td>\n",
       "      <td>Placed</td>\n",
       "      <td>107000.0</td>\n",
       "    </tr>\n",
       "    <tr>\n",
       "      <th>3</th>\n",
       "      <td>4</td>\n",
       "      <td>Engineering</td>\n",
       "      <td>75.1</td>\n",
       "      <td>80.7</td>\n",
       "      <td>No</td>\n",
       "      <td>288.0</td>\n",
       "      <td>334.0</td>\n",
       "      <td>Not Placed</td>\n",
       "      <td>NaN</td>\n",
       "    </tr>\n",
       "    <tr>\n",
       "      <th>4</th>\n",
       "      <td>5</td>\n",
       "      <td>Finance</td>\n",
       "      <td>60.9</td>\n",
       "      <td>74.9</td>\n",
       "      <td>No</td>\n",
       "      <td>248.0</td>\n",
       "      <td>252.0</td>\n",
       "      <td>Not Placed</td>\n",
       "      <td>NaN</td>\n",
       "    </tr>\n",
       "  </tbody>\n",
       "</table>\n",
       "</div>"
      ],
      "text/plain": [
       "   Student ID  Undergrad Degree  Undergrad Grade  MBA Grade Work Experience  \\\n",
       "0           1          Business             68.4       90.2              No   \n",
       "1           2          Business             62.1       92.8              No   \n",
       "2           3  Computer Science             70.2       68.7             Yes   \n",
       "3           4       Engineering             75.1       80.7              No   \n",
       "4           5           Finance             60.9       74.9              No   \n",
       "\n",
       "   Employability (Before)  Employability (After)      Status  Annual Salary  \n",
       "0                   252.0                  276.0      Placed       111000.0  \n",
       "1                   423.0                  410.0  Not Placed            NaN  \n",
       "2                   101.0                  119.0      Placed       107000.0  \n",
       "3                   288.0                  334.0  Not Placed            NaN  \n",
       "4                   248.0                  252.0  Not Placed            NaN  "
      ]
     },
     "execution_count": 4,
     "metadata": {},
     "output_type": "execute_result"
    }
   ],
   "source": [
    "datasets = Path(\"../datasets/\")\n",
    "df_file = \"maven_business_school/MavenBusinessSchool(final).xlsx\"\n",
    "df = pd.read_excel(datasets / df_file)\n",
    "df.head()"
   ]
  },
  {
   "cell_type": "markdown",
   "metadata": {},
   "source": [
    "## Data Quality Reports"
   ]
  },
  {
   "cell_type": "code",
   "execution_count": 5,
   "metadata": {},
   "outputs": [
    {
     "name": "stdout",
     "output_type": "stream",
     "text": [
      "============================================\n",
      "Quick Report - info(memory_usage='deep')\n",
      "Total cols: 9\n",
      "Rows missing all values: 0 (0.0%)\n",
      "Total Rows: 1200\n",
      "Cols with missing values: 4 (44.44%)\n",
      "Total missing values in dataset: 4\n",
      "============================================\n",
      "Categorical features: 3\n",
      "- Undergrad Degree: 5 unique values\n",
      "- Work Experience: 2 unique values\n",
      "- Status: 2 unique values\n",
      "============================================\n",
      "Continuous features: 6\n",
      "- Student ID: 1200 unique values\n",
      "- Undergrad Grade: 762 unique values\n",
      "- MBA Grade: 837 unique values\n",
      "- Employability (Before): 1182 unique values\n",
      "- Employability (After): 776 unique values\n",
      "- Annual Salary: 89 unique values\n"
     ]
    }
   ],
   "source": [
    "jq.quick_report(df)"
   ]
  },
  {
   "cell_type": "markdown",
   "metadata": {},
   "source": [
    "### Categorical Features"
   ]
  },
  {
   "cell_type": "code",
   "execution_count": 6,
   "metadata": {},
   "outputs": [
    {
     "name": "stdout",
     "output_type": "stream",
     "text": [
      "The categorical features are: \n",
      "['Undergrad Degree', 'Work Experience', 'Status']\n",
      "Data Quality Report for Categorical Features\n",
      "Total features: 3 / 1200 rows\n",
      "============================================\n",
      "Stats\n",
      "-----\n"
     ]
    },
    {
     "data": {
      "text/html": [
       "<div>\n",
       "<style scoped>\n",
       "    .dataframe tbody tr th:only-of-type {\n",
       "        vertical-align: middle;\n",
       "    }\n",
       "\n",
       "    .dataframe tbody tr th {\n",
       "        vertical-align: top;\n",
       "    }\n",
       "\n",
       "    .dataframe thead th {\n",
       "        text-align: right;\n",
       "    }\n",
       "</style>\n",
       "<table border=\"1\" class=\"dataframe\">\n",
       "  <thead>\n",
       "    <tr style=\"text-align: right;\">\n",
       "      <th></th>\n",
       "      <th>Feature</th>\n",
       "      <th>Count</th>\n",
       "      <th>Missing</th>\n",
       "      <th>% Missing</th>\n",
       "      <th>Cardinality</th>\n",
       "    </tr>\n",
       "  </thead>\n",
       "  <tbody>\n",
       "    <tr>\n",
       "      <th>0</th>\n",
       "      <td>Undergrad Degree</td>\n",
       "      <td>1200</td>\n",
       "      <td>0</td>\n",
       "      <td>0.0</td>\n",
       "      <td>5</td>\n",
       "    </tr>\n",
       "    <tr>\n",
       "      <th>1</th>\n",
       "      <td>Work Experience</td>\n",
       "      <td>1200</td>\n",
       "      <td>0</td>\n",
       "      <td>0.0</td>\n",
       "      <td>2</td>\n",
       "    </tr>\n",
       "    <tr>\n",
       "      <th>2</th>\n",
       "      <td>Status</td>\n",
       "      <td>1200</td>\n",
       "      <td>0</td>\n",
       "      <td>0.0</td>\n",
       "      <td>2</td>\n",
       "    </tr>\n",
       "  </tbody>\n",
       "</table>\n",
       "</div>"
      ],
      "text/plain": [
       "            Feature  Count  Missing  % Missing  Cardinality\n",
       "0  Undergrad Degree   1200        0        0.0            5\n",
       "1   Work Experience   1200        0        0.0            2\n",
       "2            Status   1200        0        0.0            2"
      ]
     },
     "metadata": {},
     "output_type": "display_data"
    },
    {
     "name": "stdout",
     "output_type": "stream",
     "text": [
      "\n",
      "\n",
      "Mode 1\n",
      "------\n"
     ]
    },
    {
     "data": {
      "text/html": [
       "<div>\n",
       "<style scoped>\n",
       "    .dataframe tbody tr th:only-of-type {\n",
       "        vertical-align: middle;\n",
       "    }\n",
       "\n",
       "    .dataframe tbody tr th {\n",
       "        vertical-align: top;\n",
       "    }\n",
       "\n",
       "    .dataframe thead th {\n",
       "        text-align: right;\n",
       "    }\n",
       "</style>\n",
       "<table border=\"1\" class=\"dataframe\">\n",
       "  <thead>\n",
       "    <tr style=\"text-align: right;\">\n",
       "      <th></th>\n",
       "      <th>Feature</th>\n",
       "      <th>Mode 1</th>\n",
       "      <th>Mode 1 Freq.</th>\n",
       "      <th>Mode 1 %</th>\n",
       "    </tr>\n",
       "  </thead>\n",
       "  <tbody>\n",
       "    <tr>\n",
       "      <th>0</th>\n",
       "      <td>Undergrad Degree</td>\n",
       "      <td>Business</td>\n",
       "      <td>257</td>\n",
       "      <td>21.42</td>\n",
       "    </tr>\n",
       "    <tr>\n",
       "      <th>1</th>\n",
       "      <td>Work Experience</td>\n",
       "      <td>No</td>\n",
       "      <td>1066</td>\n",
       "      <td>88.83</td>\n",
       "    </tr>\n",
       "    <tr>\n",
       "      <th>2</th>\n",
       "      <td>Status</td>\n",
       "      <td>Placed</td>\n",
       "      <td>716</td>\n",
       "      <td>59.67</td>\n",
       "    </tr>\n",
       "  </tbody>\n",
       "</table>\n",
       "</div>"
      ],
      "text/plain": [
       "            Feature    Mode 1  Mode 1 Freq.  Mode 1 %\n",
       "0  Undergrad Degree  Business           257     21.42\n",
       "1   Work Experience        No          1066     88.83\n",
       "2            Status    Placed           716     59.67"
      ]
     },
     "metadata": {},
     "output_type": "display_data"
    },
    {
     "name": "stdout",
     "output_type": "stream",
     "text": [
      "\n",
      "\n",
      "Mode 2\n",
      "------\n"
     ]
    },
    {
     "data": {
      "text/html": [
       "<div>\n",
       "<style scoped>\n",
       "    .dataframe tbody tr th:only-of-type {\n",
       "        vertical-align: middle;\n",
       "    }\n",
       "\n",
       "    .dataframe tbody tr th {\n",
       "        vertical-align: top;\n",
       "    }\n",
       "\n",
       "    .dataframe thead th {\n",
       "        text-align: right;\n",
       "    }\n",
       "</style>\n",
       "<table border=\"1\" class=\"dataframe\">\n",
       "  <thead>\n",
       "    <tr style=\"text-align: right;\">\n",
       "      <th></th>\n",
       "      <th>Feature</th>\n",
       "      <th>Mode 2</th>\n",
       "      <th>Mode 2 Freq.</th>\n",
       "      <th>Mode 2 %</th>\n",
       "    </tr>\n",
       "  </thead>\n",
       "  <tbody>\n",
       "    <tr>\n",
       "      <th>0</th>\n",
       "      <td>Undergrad Degree</td>\n",
       "      <td>Computer Science</td>\n",
       "      <td>240</td>\n",
       "      <td>20.00</td>\n",
       "    </tr>\n",
       "    <tr>\n",
       "      <th>1</th>\n",
       "      <td>Work Experience</td>\n",
       "      <td>Yes</td>\n",
       "      <td>134</td>\n",
       "      <td>11.17</td>\n",
       "    </tr>\n",
       "    <tr>\n",
       "      <th>2</th>\n",
       "      <td>Status</td>\n",
       "      <td>Not Placed</td>\n",
       "      <td>484</td>\n",
       "      <td>40.33</td>\n",
       "    </tr>\n",
       "  </tbody>\n",
       "</table>\n",
       "</div>"
      ],
      "text/plain": [
       "            Feature            Mode 2  Mode 2 Freq.  Mode 2 %\n",
       "0  Undergrad Degree  Computer Science           240     20.00\n",
       "1   Work Experience               Yes           134     11.17\n",
       "2            Status        Not Placed           484     40.33"
      ]
     },
     "metadata": {},
     "output_type": "display_data"
    },
    {
     "name": "stdout",
     "output_type": "stream",
     "text": [
      "\n",
      "\n",
      "Descriptive Stats\n",
      "-----------------\n"
     ]
    },
    {
     "data": {
      "text/html": [
       "<div>\n",
       "<style scoped>\n",
       "    .dataframe tbody tr th:only-of-type {\n",
       "        vertical-align: middle;\n",
       "    }\n",
       "\n",
       "    .dataframe tbody tr th {\n",
       "        vertical-align: top;\n",
       "    }\n",
       "\n",
       "    .dataframe thead th {\n",
       "        text-align: right;\n",
       "    }\n",
       "</style>\n",
       "<table border=\"1\" class=\"dataframe\">\n",
       "  <thead>\n",
       "    <tr style=\"text-align: right;\">\n",
       "      <th></th>\n",
       "      <th>count</th>\n",
       "      <th>unique</th>\n",
       "      <th>top</th>\n",
       "      <th>freq</th>\n",
       "    </tr>\n",
       "  </thead>\n",
       "  <tbody>\n",
       "    <tr>\n",
       "      <th>Undergrad Degree</th>\n",
       "      <td>1200</td>\n",
       "      <td>5</td>\n",
       "      <td>Business</td>\n",
       "      <td>257</td>\n",
       "    </tr>\n",
       "    <tr>\n",
       "      <th>Work Experience</th>\n",
       "      <td>1200</td>\n",
       "      <td>2</td>\n",
       "      <td>No</td>\n",
       "      <td>1066</td>\n",
       "    </tr>\n",
       "    <tr>\n",
       "      <th>Status</th>\n",
       "      <td>1200</td>\n",
       "      <td>2</td>\n",
       "      <td>Placed</td>\n",
       "      <td>716</td>\n",
       "    </tr>\n",
       "  </tbody>\n",
       "</table>\n",
       "</div>"
      ],
      "text/plain": [
       "                 count unique       top  freq\n",
       "Undergrad Degree  1200      5  Business   257\n",
       "Work Experience   1200      2        No  1066\n",
       "Status            1200      2    Placed   716"
      ]
     },
     "metadata": {},
     "output_type": "display_data"
    }
   ],
   "source": [
    "jq.dqr_cat(df)"
   ]
  },
  {
   "cell_type": "markdown",
   "metadata": {},
   "source": [
    "### Continuous Features"
   ]
  },
  {
   "cell_type": "code",
   "execution_count": 7,
   "metadata": {},
   "outputs": [
    {
     "name": "stdout",
     "output_type": "stream",
     "text": [
      "The non-categorical features are: \n",
      "['Student ID', 'Undergrad Grade', 'MBA Grade', 'Employability (Before)', 'Employability (After)', 'Annual Salary']\n",
      "Data Quality for Continous Features\n",
      "Total Features: 6 / 1200 rows\n"
     ]
    },
    {
     "data": {
      "text/html": [
       "<div>\n",
       "<style scoped>\n",
       "    .dataframe tbody tr th:only-of-type {\n",
       "        vertical-align: middle;\n",
       "    }\n",
       "\n",
       "    .dataframe tbody tr th {\n",
       "        vertical-align: top;\n",
       "    }\n",
       "\n",
       "    .dataframe thead th {\n",
       "        text-align: right;\n",
       "    }\n",
       "</style>\n",
       "<table border=\"1\" class=\"dataframe\">\n",
       "  <thead>\n",
       "    <tr style=\"text-align: right;\">\n",
       "      <th></th>\n",
       "      <th>Feature</th>\n",
       "      <th>Count</th>\n",
       "      <th>Missing</th>\n",
       "      <th>% missing</th>\n",
       "      <th>Cardinality</th>\n",
       "    </tr>\n",
       "  </thead>\n",
       "  <tbody>\n",
       "    <tr>\n",
       "      <th>0</th>\n",
       "      <td>Student ID</td>\n",
       "      <td>1200</td>\n",
       "      <td>0</td>\n",
       "      <td>0.00</td>\n",
       "      <td>1200</td>\n",
       "    </tr>\n",
       "    <tr>\n",
       "      <th>1</th>\n",
       "      <td>Undergrad Grade</td>\n",
       "      <td>1164</td>\n",
       "      <td>36</td>\n",
       "      <td>3.00</td>\n",
       "      <td>762</td>\n",
       "    </tr>\n",
       "    <tr>\n",
       "      <th>2</th>\n",
       "      <td>MBA Grade</td>\n",
       "      <td>1200</td>\n",
       "      <td>0</td>\n",
       "      <td>0.00</td>\n",
       "      <td>837</td>\n",
       "    </tr>\n",
       "    <tr>\n",
       "      <th>3</th>\n",
       "      <td>Employability (Before)</td>\n",
       "      <td>1193</td>\n",
       "      <td>7</td>\n",
       "      <td>0.58</td>\n",
       "      <td>1182</td>\n",
       "    </tr>\n",
       "    <tr>\n",
       "      <th>4</th>\n",
       "      <td>Employability (After)</td>\n",
       "      <td>1195</td>\n",
       "      <td>5</td>\n",
       "      <td>0.42</td>\n",
       "      <td>776</td>\n",
       "    </tr>\n",
       "    <tr>\n",
       "      <th>5</th>\n",
       "      <td>Annual Salary</td>\n",
       "      <td>716</td>\n",
       "      <td>484</td>\n",
       "      <td>40.33</td>\n",
       "      <td>89</td>\n",
       "    </tr>\n",
       "  </tbody>\n",
       "</table>\n",
       "</div>"
      ],
      "text/plain": [
       "                  Feature  Count  Missing  % missing  Cardinality\n",
       "0              Student ID   1200        0       0.00         1200\n",
       "1         Undergrad Grade   1164       36       3.00          762\n",
       "2               MBA Grade   1200        0       0.00          837\n",
       "3  Employability (Before)   1193        7       0.58         1182\n",
       "4   Employability (After)   1195        5       0.42          776\n",
       "5           Annual Salary    716      484      40.33           89"
      ]
     },
     "metadata": {},
     "output_type": "display_data"
    },
    {
     "name": "stdout",
     "output_type": "stream",
     "text": [
      "\n",
      "\n",
      "Descriptive Stats\n"
     ]
    },
    {
     "data": {
      "text/html": [
       "<div>\n",
       "<style scoped>\n",
       "    .dataframe tbody tr th:only-of-type {\n",
       "        vertical-align: middle;\n",
       "    }\n",
       "\n",
       "    .dataframe tbody tr th {\n",
       "        vertical-align: top;\n",
       "    }\n",
       "\n",
       "    .dataframe thead th {\n",
       "        text-align: right;\n",
       "    }\n",
       "</style>\n",
       "<table border=\"1\" class=\"dataframe\">\n",
       "  <thead>\n",
       "    <tr style=\"text-align: right;\">\n",
       "      <th></th>\n",
       "      <th>count</th>\n",
       "      <th>mean</th>\n",
       "      <th>std</th>\n",
       "      <th>min</th>\n",
       "      <th>25%</th>\n",
       "      <th>50%</th>\n",
       "      <th>75%</th>\n",
       "      <th>max</th>\n",
       "    </tr>\n",
       "  </thead>\n",
       "  <tbody>\n",
       "    <tr>\n",
       "      <th>Student ID</th>\n",
       "      <td>1200.0</td>\n",
       "      <td>600.50</td>\n",
       "      <td>346.55</td>\n",
       "      <td>1.0</td>\n",
       "      <td>300.75</td>\n",
       "      <td>600.50</td>\n",
       "      <td>900.25</td>\n",
       "      <td>1200.00</td>\n",
       "    </tr>\n",
       "    <tr>\n",
       "      <th>Undergrad Grade</th>\n",
       "      <td>1164.0</td>\n",
       "      <td>56.56</td>\n",
       "      <td>22.31</td>\n",
       "      <td>10.0</td>\n",
       "      <td>39.88</td>\n",
       "      <td>56.91</td>\n",
       "      <td>75.02</td>\n",
       "      <td>100.00</td>\n",
       "    </tr>\n",
       "    <tr>\n",
       "      <th>MBA Grade</th>\n",
       "      <td>1200.0</td>\n",
       "      <td>52.83</td>\n",
       "      <td>23.49</td>\n",
       "      <td>0.0</td>\n",
       "      <td>35.72</td>\n",
       "      <td>53.20</td>\n",
       "      <td>72.47</td>\n",
       "      <td>96.10</td>\n",
       "    </tr>\n",
       "    <tr>\n",
       "      <th>Employability (Before)</th>\n",
       "      <td>1193.0</td>\n",
       "      <td>216.31</td>\n",
       "      <td>36.28</td>\n",
       "      <td>62.0</td>\n",
       "      <td>189.96</td>\n",
       "      <td>215.24</td>\n",
       "      <td>239.66</td>\n",
       "      <td>423.00</td>\n",
       "    </tr>\n",
       "    <tr>\n",
       "      <th>Employability (After)</th>\n",
       "      <td>1195.0</td>\n",
       "      <td>288.08</td>\n",
       "      <td>124.53</td>\n",
       "      <td>62.0</td>\n",
       "      <td>197.86</td>\n",
       "      <td>260.93</td>\n",
       "      <td>349.00</td>\n",
       "      <td>697.39</td>\n",
       "    </tr>\n",
       "    <tr>\n",
       "      <th>Annual Salary</th>\n",
       "      <td>716.0</td>\n",
       "      <td>125285.71</td>\n",
       "      <td>49343.71</td>\n",
       "      <td>20000.0</td>\n",
       "      <td>100500.00</td>\n",
       "      <td>100500.00</td>\n",
       "      <td>148000.00</td>\n",
       "      <td>470333.33</td>\n",
       "    </tr>\n",
       "  </tbody>\n",
       "</table>\n",
       "</div>"
      ],
      "text/plain": [
       "                         count       mean       std      min        25%  \\\n",
       "Student ID              1200.0     600.50    346.55      1.0     300.75   \n",
       "Undergrad Grade         1164.0      56.56     22.31     10.0      39.88   \n",
       "MBA Grade               1200.0      52.83     23.49      0.0      35.72   \n",
       "Employability (Before)  1193.0     216.31     36.28     62.0     189.96   \n",
       "Employability (After)   1195.0     288.08    124.53     62.0     197.86   \n",
       "Annual Salary            716.0  125285.71  49343.71  20000.0  100500.00   \n",
       "\n",
       "                              50%        75%        max  \n",
       "Student ID                 600.50     900.25    1200.00  \n",
       "Undergrad Grade             56.91      75.02     100.00  \n",
       "MBA Grade                   53.20      72.47      96.10  \n",
       "Employability (Before)     215.24     239.66     423.00  \n",
       "Employability (After)      260.93     349.00     697.39  \n",
       "Annual Salary           100500.00  148000.00  470333.33  "
      ]
     },
     "metadata": {},
     "output_type": "display_data"
    }
   ],
   "source": [
    "jq.dqr_cont(df)"
   ]
  },
  {
   "cell_type": "code",
   "execution_count": 8,
   "metadata": {},
   "outputs": [
    {
     "name": "stdout",
     "output_type": "stream",
     "text": [
      "Number of NaN values in Annual Salary where Status == 'Not Placed': 484.\n"
     ]
    }
   ],
   "source": [
    "# Verify that all 484 missing values in Annual Salary is due to Status == Not Placed\n",
    "nan_annual_salary = df[\n",
    "    (df.Status == \"Not Placed\") & (df[\"Annual Salary\"].isna())\n",
    "].shape[0]\n",
    "print(\n",
    "    f\"Number of NaN values in Annual Salary where Status == 'Not Placed': {nan_annual_salary}.\"\n",
    ")"
   ]
  },
  {
   "cell_type": "markdown",
   "metadata": {},
   "source": [
    "## Clean missing values"
   ]
  },
  {
   "cell_type": "code",
   "execution_count": 9,
   "metadata": {},
   "outputs": [
    {
     "data": {
      "text/plain": [
       "['Student ID',\n",
       " 'Undergrad Degree',\n",
       " 'Undergrad Grade',\n",
       " 'MBA Grade',\n",
       " 'Work Experience',\n",
       " 'Employability (Before)',\n",
       " 'Employability (After)',\n",
       " 'Status',\n",
       " 'Annual Salary']"
      ]
     },
     "execution_count": 9,
     "metadata": {},
     "output_type": "execute_result"
    }
   ],
   "source": [
    "cols = df.columns.tolist()\n",
    "cols"
   ]
  },
  {
   "cell_type": "code",
   "execution_count": 10,
   "metadata": {},
   "outputs": [
    {
     "data": {
      "image/png": "[encoded data removed]",
      "text/plain": [
       "<Figure size 1000x800 with 4 Axes>"
      ]
     },
     "metadata": {},
     "output_type": "display_data"
    }
   ],
   "source": [
    "missing_cols = [\n",
    "    \"Undergrad Grade\",\n",
    "    \"Employability (Before)\",\n",
    "    \"Employability (After)\",\n",
    "    \"Annual Salary\",\n",
    "]\n",
    "df[missing_cols].hist(bins=20, figsize=(10, 8))\n",
    "plt.tight_layout()\n",
    "plt.show()"
   ]
  },
  {
   "cell_type": "markdown",
   "metadata": {},
   "source": [
    "Based on the skewness of the distribution shown in the charts, the median will be used to impute missing values.\n",
    "\n",
    "Missing values in Annual Salary will be imputed with 0.  "
   ]
  },
  {
   "cell_type": "markdown",
   "metadata": {},
   "source": [
    "### Impute Missing Values"
   ]
  },
  {
   "cell_type": "code",
   "execution_count": 11,
   "metadata": {},
   "outputs": [],
   "source": [
    "df[\"Undergrad Grade\"].fillna(df[\"Undergrad Grade\"].median(), inplace=True)\n",
    "df[\"Employability (Before)\"].fillna(df[\"Employability (Before)\"].median(), inplace=True)\n",
    "df[\"Employability (After)\"].fillna(df[\"Employability (After)\"].median(), inplace=True)\n",
    "# Replace missing values with 0 for Annual Salary.\n",
    "df[\"Annual Salary\"].fillna(0, inplace=True)"
   ]
  },
  {
   "cell_type": "code",
   "execution_count": 12,
   "metadata": {},
   "outputs": [
    {
     "name": "stdout",
     "output_type": "stream",
     "text": [
      "The non-categorical features are: \n",
      "['Student ID', 'Undergrad Grade', 'MBA Grade', 'Employability (Before)', 'Employability (After)', 'Annual Salary']\n",
      "Data Quality for Continous Features\n",
      "Total Features: 6 / 1200 rows\n"
     ]
    },
    {
     "data": {
      "text/html": [
       "<div>\n",
       "<style scoped>\n",
       "    .dataframe tbody tr th:only-of-type {\n",
       "        vertical-align: middle;\n",
       "    }\n",
       "\n",
       "    .dataframe tbody tr th {\n",
       "        vertical-align: top;\n",
       "    }\n",
       "\n",
       "    .dataframe thead th {\n",
       "        text-align: right;\n",
       "    }\n",
       "</style>\n",
       "<table border=\"1\" class=\"dataframe\">\n",
       "  <thead>\n",
       "    <tr style=\"text-align: right;\">\n",
       "      <th></th>\n",
       "      <th>Feature</th>\n",
       "      <th>Count</th>\n",
       "      <th>Missing</th>\n",
       "      <th>% missing</th>\n",
       "      <th>Cardinality</th>\n",
       "    </tr>\n",
       "  </thead>\n",
       "  <tbody>\n",
       "    <tr>\n",
       "      <th>0</th>\n",
       "      <td>Student ID</td>\n",
       "      <td>1200</td>\n",
       "      <td>0</td>\n",
       "      <td>0.0</td>\n",
       "      <td>1200</td>\n",
       "    </tr>\n",
       "    <tr>\n",
       "      <th>1</th>\n",
       "      <td>Undergrad Grade</td>\n",
       "      <td>1200</td>\n",
       "      <td>0</td>\n",
       "      <td>0.0</td>\n",
       "      <td>762</td>\n",
       "    </tr>\n",
       "    <tr>\n",
       "      <th>2</th>\n",
       "      <td>MBA Grade</td>\n",
       "      <td>1200</td>\n",
       "      <td>0</td>\n",
       "      <td>0.0</td>\n",
       "      <td>837</td>\n",
       "    </tr>\n",
       "    <tr>\n",
       "      <th>3</th>\n",
       "      <td>Employability (Before)</td>\n",
       "      <td>1200</td>\n",
       "      <td>0</td>\n",
       "      <td>0.0</td>\n",
       "      <td>1181</td>\n",
       "    </tr>\n",
       "    <tr>\n",
       "      <th>4</th>\n",
       "      <td>Employability (After)</td>\n",
       "      <td>1200</td>\n",
       "      <td>0</td>\n",
       "      <td>0.0</td>\n",
       "      <td>775</td>\n",
       "    </tr>\n",
       "    <tr>\n",
       "      <th>5</th>\n",
       "      <td>Annual Salary</td>\n",
       "      <td>1200</td>\n",
       "      <td>0</td>\n",
       "      <td>0.0</td>\n",
       "      <td>89</td>\n",
       "    </tr>\n",
       "  </tbody>\n",
       "</table>\n",
       "</div>"
      ],
      "text/plain": [
       "                  Feature  Count  Missing  % missing  Cardinality\n",
       "0              Student ID   1200        0        0.0         1200\n",
       "1         Undergrad Grade   1200        0        0.0          762\n",
       "2               MBA Grade   1200        0        0.0          837\n",
       "3  Employability (Before)   1200        0        0.0         1181\n",
       "4   Employability (After)   1200        0        0.0          775\n",
       "5           Annual Salary   1200        0        0.0           89"
      ]
     },
     "metadata": {},
     "output_type": "display_data"
    },
    {
     "name": "stdout",
     "output_type": "stream",
     "text": [
      "\n",
      "\n",
      "Descriptive Stats\n"
     ]
    },
    {
     "data": {
      "text/html": [
       "<div>\n",
       "<style scoped>\n",
       "    .dataframe tbody tr th:only-of-type {\n",
       "        vertical-align: middle;\n",
       "    }\n",
       "\n",
       "    .dataframe tbody tr th {\n",
       "        vertical-align: top;\n",
       "    }\n",
       "\n",
       "    .dataframe thead th {\n",
       "        text-align: right;\n",
       "    }\n",
       "</style>\n",
       "<table border=\"1\" class=\"dataframe\">\n",
       "  <thead>\n",
       "    <tr style=\"text-align: right;\">\n",
       "      <th></th>\n",
       "      <th>count</th>\n",
       "      <th>mean</th>\n",
       "      <th>std</th>\n",
       "      <th>min</th>\n",
       "      <th>25%</th>\n",
       "      <th>50%</th>\n",
       "      <th>75%</th>\n",
       "      <th>max</th>\n",
       "    </tr>\n",
       "  </thead>\n",
       "  <tbody>\n",
       "    <tr>\n",
       "      <th>Student ID</th>\n",
       "      <td>1200.0</td>\n",
       "      <td>600.50</td>\n",
       "      <td>346.55</td>\n",
       "      <td>1.0</td>\n",
       "      <td>300.75</td>\n",
       "      <td>600.50</td>\n",
       "      <td>900.25</td>\n",
       "      <td>1200.00</td>\n",
       "    </tr>\n",
       "    <tr>\n",
       "      <th>Undergrad Grade</th>\n",
       "      <td>1200.0</td>\n",
       "      <td>56.57</td>\n",
       "      <td>21.97</td>\n",
       "      <td>10.0</td>\n",
       "      <td>40.50</td>\n",
       "      <td>56.91</td>\n",
       "      <td>74.53</td>\n",
       "      <td>100.00</td>\n",
       "    </tr>\n",
       "    <tr>\n",
       "      <th>MBA Grade</th>\n",
       "      <td>1200.0</td>\n",
       "      <td>52.83</td>\n",
       "      <td>23.49</td>\n",
       "      <td>0.0</td>\n",
       "      <td>35.72</td>\n",
       "      <td>53.20</td>\n",
       "      <td>72.47</td>\n",
       "      <td>96.10</td>\n",
       "    </tr>\n",
       "    <tr>\n",
       "      <th>Employability (Before)</th>\n",
       "      <td>1200.0</td>\n",
       "      <td>216.30</td>\n",
       "      <td>36.17</td>\n",
       "      <td>62.0</td>\n",
       "      <td>190.11</td>\n",
       "      <td>215.24</td>\n",
       "      <td>239.52</td>\n",
       "      <td>423.00</td>\n",
       "    </tr>\n",
       "    <tr>\n",
       "      <th>Employability (After)</th>\n",
       "      <td>1200.0</td>\n",
       "      <td>287.97</td>\n",
       "      <td>124.28</td>\n",
       "      <td>62.0</td>\n",
       "      <td>197.96</td>\n",
       "      <td>260.93</td>\n",
       "      <td>348.40</td>\n",
       "      <td>697.39</td>\n",
       "    </tr>\n",
       "    <tr>\n",
       "      <th>Annual Salary</th>\n",
       "      <td>1200.0</td>\n",
       "      <td>74753.81</td>\n",
       "      <td>72336.36</td>\n",
       "      <td>0.0</td>\n",
       "      <td>0.00</td>\n",
       "      <td>100500.00</td>\n",
       "      <td>109000.00</td>\n",
       "      <td>470333.33</td>\n",
       "    </tr>\n",
       "  </tbody>\n",
       "</table>\n",
       "</div>"
      ],
      "text/plain": [
       "                         count      mean       std   min     25%        50%  \\\n",
       "Student ID              1200.0    600.50    346.55   1.0  300.75     600.50   \n",
       "Undergrad Grade         1200.0     56.57     21.97  10.0   40.50      56.91   \n",
       "MBA Grade               1200.0     52.83     23.49   0.0   35.72      53.20   \n",
       "Employability (Before)  1200.0    216.30     36.17  62.0  190.11     215.24   \n",
       "Employability (After)   1200.0    287.97    124.28  62.0  197.96     260.93   \n",
       "Annual Salary           1200.0  74753.81  72336.36   0.0    0.00  100500.00   \n",
       "\n",
       "                              75%        max  \n",
       "Student ID                 900.25    1200.00  \n",
       "Undergrad Grade             74.53     100.00  \n",
       "MBA Grade                   72.47      96.10  \n",
       "Employability (Before)     239.52     423.00  \n",
       "Employability (After)      348.40     697.39  \n",
       "Annual Salary           109000.00  470333.33  "
      ]
     },
     "metadata": {},
     "output_type": "display_data"
    }
   ],
   "source": [
    "jq.dqr_cont(df)"
   ]
  },
  {
   "cell_type": "markdown",
   "metadata": {},
   "source": [
    "# Export Clean Dataset"
   ]
  },
  {
   "cell_type": "code",
   "execution_count": 13,
   "metadata": {},
   "outputs": [],
   "source": [
    "df_clean = df.copy()\n",
    "df_clean.to_csv(datasets / \"school_clean.csv\", index=False)"
   ]
  },
  {
   "cell_type": "code",
   "execution_count": 14,
   "metadata": {},
   "outputs": [
    {
     "data": {
      "text/html": [
       "<div>\n",
       "<style scoped>\n",
       "    .dataframe tbody tr th:only-of-type {\n",
       "        vertical-align: middle;\n",
       "    }\n",
       "\n",
       "    .dataframe tbody tr th {\n",
       "        vertical-align: top;\n",
       "    }\n",
       "\n",
       "    .dataframe thead th {\n",
       "        text-align: right;\n",
       "    }\n",
       "</style>\n",
       "<table border=\"1\" class=\"dataframe\">\n",
       "  <thead>\n",
       "    <tr style=\"text-align: right;\">\n",
       "      <th></th>\n",
       "      <th>Student ID</th>\n",
       "      <th>Undergrad Degree</th>\n",
       "      <th>Undergrad Grade</th>\n",
       "      <th>MBA Grade</th>\n",
       "      <th>Work Experience</th>\n",
       "      <th>Employability (Before)</th>\n",
       "      <th>Employability (After)</th>\n",
       "      <th>Status</th>\n",
       "      <th>Annual Salary</th>\n",
       "    </tr>\n",
       "  </thead>\n",
       "  <tbody>\n",
       "    <tr>\n",
       "      <th>0</th>\n",
       "      <td>1</td>\n",
       "      <td>Business</td>\n",
       "      <td>68.4</td>\n",
       "      <td>90.2</td>\n",
       "      <td>No</td>\n",
       "      <td>252.0</td>\n",
       "      <td>276.0</td>\n",
       "      <td>Placed</td>\n",
       "      <td>111000.0</td>\n",
       "    </tr>\n",
       "    <tr>\n",
       "      <th>1</th>\n",
       "      <td>2</td>\n",
       "      <td>Business</td>\n",
       "      <td>62.1</td>\n",
       "      <td>92.8</td>\n",
       "      <td>No</td>\n",
       "      <td>423.0</td>\n",
       "      <td>410.0</td>\n",
       "      <td>Not Placed</td>\n",
       "      <td>0.0</td>\n",
       "    </tr>\n",
       "    <tr>\n",
       "      <th>2</th>\n",
       "      <td>3</td>\n",
       "      <td>Computer Science</td>\n",
       "      <td>70.2</td>\n",
       "      <td>68.7</td>\n",
       "      <td>Yes</td>\n",
       "      <td>101.0</td>\n",
       "      <td>119.0</td>\n",
       "      <td>Placed</td>\n",
       "      <td>107000.0</td>\n",
       "    </tr>\n",
       "    <tr>\n",
       "      <th>3</th>\n",
       "      <td>4</td>\n",
       "      <td>Engineering</td>\n",
       "      <td>75.1</td>\n",
       "      <td>80.7</td>\n",
       "      <td>No</td>\n",
       "      <td>288.0</td>\n",
       "      <td>334.0</td>\n",
       "      <td>Not Placed</td>\n",
       "      <td>0.0</td>\n",
       "    </tr>\n",
       "    <tr>\n",
       "      <th>4</th>\n",
       "      <td>5</td>\n",
       "      <td>Finance</td>\n",
       "      <td>60.9</td>\n",
       "      <td>74.9</td>\n",
       "      <td>No</td>\n",
       "      <td>248.0</td>\n",
       "      <td>252.0</td>\n",
       "      <td>Not Placed</td>\n",
       "      <td>0.0</td>\n",
       "    </tr>\n",
       "  </tbody>\n",
       "</table>\n",
       "</div>"
      ],
      "text/plain": [
       "   Student ID  Undergrad Degree  Undergrad Grade  MBA Grade Work Experience  \\\n",
       "0           1          Business             68.4       90.2              No   \n",
       "1           2          Business             62.1       92.8              No   \n",
       "2           3  Computer Science             70.2       68.7             Yes   \n",
       "3           4       Engineering             75.1       80.7              No   \n",
       "4           5           Finance             60.9       74.9              No   \n",
       "\n",
       "   Employability (Before)  Employability (After)      Status  Annual Salary  \n",
       "0                   252.0                  276.0      Placed       111000.0  \n",
       "1                   423.0                  410.0  Not Placed            0.0  \n",
       "2                   101.0                  119.0      Placed       107000.0  \n",
       "3                   288.0                  334.0  Not Placed            0.0  \n",
       "4                   248.0                  252.0  Not Placed            0.0  "
      ]
     },
     "execution_count": 14,
     "metadata": {},
     "output_type": "execute_result"
    }
   ],
   "source": [
    "dfc = pd.read_csv(datasets / \"school_clean.csv\")\n",
    "dfc.head()"
   ]
  },
  {
   "cell_type": "markdown",
   "metadata": {},
   "source": [
    "# Continuous Variables"
   ]
  },
  {
   "cell_type": "markdown",
   "metadata": {},
   "source": [
    "## Distribution"
   ]
  },
  {
   "cell_type": "code",
   "execution_count": 19,
   "metadata": {},
   "outputs": [
    {
     "data": {
      "image/png": "[encoded data removed]",
      "text/plain": [
       "<Figure size 1200x800 with 6 Axes>"
      ]
     },
     "metadata": {},
     "output_type": "display_data"
    }
   ],
   "source": [
    "dfc.hist(bins=20, figsize=(12, 8))\n",
    "plt.tight_layout()\n",
    "plt.show()"
   ]
  },
  {
   "cell_type": "markdown",
   "metadata": {},
   "source": [
    "Undergrad Grade shows a normal distribution. Employability variables are both skewed to the left but the range in \"After\" has increased. "
   ]
  },
  {
   "cell_type": "code",
   "execution_count": 22,
   "metadata": {},
   "outputs": [
    {
     "data": {
      "image/png": "[encoded data removed]",
      "text/plain": [
       "<Figure size 640x480 with 1 Axes>"
      ]
     },
     "metadata": {},
     "output_type": "display_data"
    }
   ],
   "source": [
    "status_dist = df[\"Status\"].value_counts()\n",
    "ax = status_dist.plot(kind=\"bar\", color=[\"skyblue\", \"lightcoral\"])\n",
    "\n",
    "for i in ax.containers:\n",
    "    ax.bar_label(i)\n",
    "\n",
    "plt.xlabel(\"Status\")\n",
    "plt.ylabel(\"Count\")\n",
    "plt.title(\"Distribution of Placement Status\")\n",
    "plt.show()"
   ]
  },
  {
   "cell_type": "markdown",
   "metadata": {},
   "source": [
    "## Distribution of Categorical Variables"
   ]
  },
  {
   "cell_type": "code",
   "execution_count": 20,
   "metadata": {},
   "outputs": [
    {
     "data": {
      "image/png": "[encoded data removed]",
      "text/plain": [
       "<Figure size 640x480 with 1 Axes>"
      ]
     },
     "metadata": {},
     "output_type": "display_data"
    }
   ],
   "source": [
    "sns.boxplot(data=df)\n",
    "plt.xticks(rotation=45)\n",
    "plt.show()"
   ]
  },
  {
   "cell_type": "code",
   "execution_count": null,
   "metadata": {},
   "outputs": [],
   "source": []
  }
 ],
 "metadata": {
  "kernelspec": {
   "display_name": "ads505",
   "language": "python",
   "name": "python3"
  },
  "language_info": {
   "codemirror_mode": {
    "name": "ipython",
    "version": 3
   },
   "file_extension": ".py",
   "mimetype": "text/x-python",
   "name": "python",
   "nbconvert_exporter": "python",
   "pygments_lexer": "ipython3",
   "version": "3.8.20"
  }
 },
 "nbformat": 4,
 "nbformat_minor": 2
}
